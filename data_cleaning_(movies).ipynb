{
  "nbformat": 4,
  "nbformat_minor": 0,
  "metadata": {
    "colab": {
      "provenance": [],
      "authorship_tag": "ABX9TyNqeMcnpnPQHQfTB7B+kV0E",
      "include_colab_link": true
    },
    "kernelspec": {
      "name": "python3",
      "display_name": "Python 3"
    },
    "language_info": {
      "name": "python"
    }
  },
  "cells": [
    {
      "cell_type": "markdown",
      "metadata": {
        "id": "view-in-github",
        "colab_type": "text"
      },
      "source": [
        "<a href=\"https://colab.research.google.com/github/Kjenis/cleaning/blob/main/data_cleaning_(movies).ipynb\" target=\"_parent\"><img src=\"https://colab.research.google.com/assets/colab-badge.svg\" alt=\"Open In Colab\"/></a>"
      ]
    },
    {
      "cell_type": "code",
      "execution_count": 38,
      "metadata": {
        "id": "Cy1ST2gB_I3U"
      },
      "outputs": [],
      "source": [
        "# import libraries\n",
        "import pandas as pd\n",
        "import numpy as np\n",
        "import matplotlib.pyplot as plt"
      ]
    },
    {
      "cell_type": "code",
      "source": [
        "from google.colab import files\n",
        "uploaded = files.upload()"
      ],
      "metadata": {
        "colab": {
          "base_uri": "https://localhost:8080/",
          "height": 38
        },
        "id": "5gGVSGv1_uvX",
        "outputId": "08a5b725-fde7-40bd-e435-c6c570fdd988"
      },
      "execution_count": 39,
      "outputs": [
        {
          "output_type": "display_data",
          "data": {
            "text/plain": [
              "<IPython.core.display.HTML object>"
            ],
            "text/html": [
              "\n",
              "     <input type=\"file\" id=\"files-a399bdb5-59aa-4158-82d9-9419035ad6b4\" name=\"files[]\" multiple disabled\n",
              "        style=\"border:none\" />\n",
              "     <output id=\"result-a399bdb5-59aa-4158-82d9-9419035ad6b4\">\n",
              "      Upload widget is only available when the cell has been executed in the\n",
              "      current browser session. Please rerun this cell to enable.\n",
              "      </output>\n",
              "      <script>// Copyright 2017 Google LLC\n",
              "//\n",
              "// Licensed under the Apache License, Version 2.0 (the \"License\");\n",
              "// you may not use this file except in compliance with the License.\n",
              "// You may obtain a copy of the License at\n",
              "//\n",
              "//      http://www.apache.org/licenses/LICENSE-2.0\n",
              "//\n",
              "// Unless required by applicable law or agreed to in writing, software\n",
              "// distributed under the License is distributed on an \"AS IS\" BASIS,\n",
              "// WITHOUT WARRANTIES OR CONDITIONS OF ANY KIND, either express or implied.\n",
              "// See the License for the specific language governing permissions and\n",
              "// limitations under the License.\n",
              "\n",
              "/**\n",
              " * @fileoverview Helpers for google.colab Python module.\n",
              " */\n",
              "(function(scope) {\n",
              "function span(text, styleAttributes = {}) {\n",
              "  const element = document.createElement('span');\n",
              "  element.textContent = text;\n",
              "  for (const key of Object.keys(styleAttributes)) {\n",
              "    element.style[key] = styleAttributes[key];\n",
              "  }\n",
              "  return element;\n",
              "}\n",
              "\n",
              "// Max number of bytes which will be uploaded at a time.\n",
              "const MAX_PAYLOAD_SIZE = 100 * 1024;\n",
              "\n",
              "function _uploadFiles(inputId, outputId) {\n",
              "  const steps = uploadFilesStep(inputId, outputId);\n",
              "  const outputElement = document.getElementById(outputId);\n",
              "  // Cache steps on the outputElement to make it available for the next call\n",
              "  // to uploadFilesContinue from Python.\n",
              "  outputElement.steps = steps;\n",
              "\n",
              "  return _uploadFilesContinue(outputId);\n",
              "}\n",
              "\n",
              "// This is roughly an async generator (not supported in the browser yet),\n",
              "// where there are multiple asynchronous steps and the Python side is going\n",
              "// to poll for completion of each step.\n",
              "// This uses a Promise to block the python side on completion of each step,\n",
              "// then passes the result of the previous step as the input to the next step.\n",
              "function _uploadFilesContinue(outputId) {\n",
              "  const outputElement = document.getElementById(outputId);\n",
              "  const steps = outputElement.steps;\n",
              "\n",
              "  const next = steps.next(outputElement.lastPromiseValue);\n",
              "  return Promise.resolve(next.value.promise).then((value) => {\n",
              "    // Cache the last promise value to make it available to the next\n",
              "    // step of the generator.\n",
              "    outputElement.lastPromiseValue = value;\n",
              "    return next.value.response;\n",
              "  });\n",
              "}\n",
              "\n",
              "/**\n",
              " * Generator function which is called between each async step of the upload\n",
              " * process.\n",
              " * @param {string} inputId Element ID of the input file picker element.\n",
              " * @param {string} outputId Element ID of the output display.\n",
              " * @return {!Iterable<!Object>} Iterable of next steps.\n",
              " */\n",
              "function* uploadFilesStep(inputId, outputId) {\n",
              "  const inputElement = document.getElementById(inputId);\n",
              "  inputElement.disabled = false;\n",
              "\n",
              "  const outputElement = document.getElementById(outputId);\n",
              "  outputElement.innerHTML = '';\n",
              "\n",
              "  const pickedPromise = new Promise((resolve) => {\n",
              "    inputElement.addEventListener('change', (e) => {\n",
              "      resolve(e.target.files);\n",
              "    });\n",
              "  });\n",
              "\n",
              "  const cancel = document.createElement('button');\n",
              "  inputElement.parentElement.appendChild(cancel);\n",
              "  cancel.textContent = 'Cancel upload';\n",
              "  const cancelPromise = new Promise((resolve) => {\n",
              "    cancel.onclick = () => {\n",
              "      resolve(null);\n",
              "    };\n",
              "  });\n",
              "\n",
              "  // Wait for the user to pick the files.\n",
              "  const files = yield {\n",
              "    promise: Promise.race([pickedPromise, cancelPromise]),\n",
              "    response: {\n",
              "      action: 'starting',\n",
              "    }\n",
              "  };\n",
              "\n",
              "  cancel.remove();\n",
              "\n",
              "  // Disable the input element since further picks are not allowed.\n",
              "  inputElement.disabled = true;\n",
              "\n",
              "  if (!files) {\n",
              "    return {\n",
              "      response: {\n",
              "        action: 'complete',\n",
              "      }\n",
              "    };\n",
              "  }\n",
              "\n",
              "  for (const file of files) {\n",
              "    const li = document.createElement('li');\n",
              "    li.append(span(file.name, {fontWeight: 'bold'}));\n",
              "    li.append(span(\n",
              "        `(${file.type || 'n/a'}) - ${file.size} bytes, ` +\n",
              "        `last modified: ${\n",
              "            file.lastModifiedDate ? file.lastModifiedDate.toLocaleDateString() :\n",
              "                                    'n/a'} - `));\n",
              "    const percent = span('0% done');\n",
              "    li.appendChild(percent);\n",
              "\n",
              "    outputElement.appendChild(li);\n",
              "\n",
              "    const fileDataPromise = new Promise((resolve) => {\n",
              "      const reader = new FileReader();\n",
              "      reader.onload = (e) => {\n",
              "        resolve(e.target.result);\n",
              "      };\n",
              "      reader.readAsArrayBuffer(file);\n",
              "    });\n",
              "    // Wait for the data to be ready.\n",
              "    let fileData = yield {\n",
              "      promise: fileDataPromise,\n",
              "      response: {\n",
              "        action: 'continue',\n",
              "      }\n",
              "    };\n",
              "\n",
              "    // Use a chunked sending to avoid message size limits. See b/62115660.\n",
              "    let position = 0;\n",
              "    do {\n",
              "      const length = Math.min(fileData.byteLength - position, MAX_PAYLOAD_SIZE);\n",
              "      const chunk = new Uint8Array(fileData, position, length);\n",
              "      position += length;\n",
              "\n",
              "      const base64 = btoa(String.fromCharCode.apply(null, chunk));\n",
              "      yield {\n",
              "        response: {\n",
              "          action: 'append',\n",
              "          file: file.name,\n",
              "          data: base64,\n",
              "        },\n",
              "      };\n",
              "\n",
              "      let percentDone = fileData.byteLength === 0 ?\n",
              "          100 :\n",
              "          Math.round((position / fileData.byteLength) * 100);\n",
              "      percent.textContent = `${percentDone}% done`;\n",
              "\n",
              "    } while (position < fileData.byteLength);\n",
              "  }\n",
              "\n",
              "  // All done.\n",
              "  yield {\n",
              "    response: {\n",
              "      action: 'complete',\n",
              "    }\n",
              "  };\n",
              "}\n",
              "\n",
              "scope.google = scope.google || {};\n",
              "scope.google.colab = scope.google.colab || {};\n",
              "scope.google.colab._files = {\n",
              "  _uploadFiles,\n",
              "  _uploadFilesContinue,\n",
              "};\n",
              "})(self);\n",
              "</script> "
            ]
          },
          "metadata": {}
        }
      ]
    },
    {
      "cell_type": "code",
      "source": [
        "df = pd.read_csv('movies.csv')\n",
        "df.head()"
      ],
      "metadata": {
        "colab": {
          "base_uri": "https://localhost:8080/",
          "height": 293
        },
        "collapsed": true,
        "id": "FwW8hsIqALiG",
        "outputId": "43ffa411-e52b-4337-9eee-ef592ea9776c"
      },
      "execution_count": 63,
      "outputs": [
        {
          "output_type": "execute_result",
          "data": {
            "text/plain": [
              "                                MOVIES         YEAR  \\\n",
              "0                        Blood Red Sky       (2021)   \n",
              "1  Masters of the Universe: Revelation     (2021– )   \n",
              "2                     The Walking Dead  (2010–2022)   \n",
              "3                       Rick and Morty     (2013– )   \n",
              "4                      Army of Thieves       (2021)   \n",
              "\n",
              "                                        GENRE  RATING  \\\n",
              "0      \\nAction, Horror, Thriller                 6.1   \n",
              "1  \\nAnimation, Action, Adventure                 5.0   \n",
              "2       \\nDrama, Horror, Thriller                 8.2   \n",
              "3  \\nAnimation, Adventure, Comedy                 9.2   \n",
              "4         \\nAction, Crime, Horror                 NaN   \n",
              "\n",
              "                                            ONE-LINE  \\\n",
              "0  \\nA woman with a mysterious illness is forced ...   \n",
              "1  \\nThe war for Eternia begins again in what may...   \n",
              "2  \\nSheriff Deputy Rick Grimes wakes up from a c...   \n",
              "3  \\nAn animated series that follows the exploits...   \n",
              "4  \\nA prequel, set before the events of Army of ...   \n",
              "\n",
              "                                               STARS    VOTES  RunTime Gross  \n",
              "0  \\n    Director:\\nPeter Thorwarth\\n| \\n    Star...   21,062    121.0   NaN  \n",
              "1  \\n            \\n    Stars:\\nChris Wood, \\nSara...   17,870     25.0   NaN  \n",
              "2  \\n            \\n    Stars:\\nAndrew Lincoln, \\n...  885,805     44.0   NaN  \n",
              "3  \\n            \\n    Stars:\\nJustin Roiland, \\n...  414,849     23.0   NaN  \n",
              "4  \\n    Director:\\nMatthias Schweighöfer\\n| \\n  ...      NaN      NaN   NaN  "
            ],
            "text/html": [
              "\n",
              "  <div id=\"df-250acb35-3690-4655-ad12-15abd152c643\" class=\"colab-df-container\">\n",
              "    <div>\n",
              "<style scoped>\n",
              "    .dataframe tbody tr th:only-of-type {\n",
              "        vertical-align: middle;\n",
              "    }\n",
              "\n",
              "    .dataframe tbody tr th {\n",
              "        vertical-align: top;\n",
              "    }\n",
              "\n",
              "    .dataframe thead th {\n",
              "        text-align: right;\n",
              "    }\n",
              "</style>\n",
              "<table border=\"1\" class=\"dataframe\">\n",
              "  <thead>\n",
              "    <tr style=\"text-align: right;\">\n",
              "      <th></th>\n",
              "      <th>MOVIES</th>\n",
              "      <th>YEAR</th>\n",
              "      <th>GENRE</th>\n",
              "      <th>RATING</th>\n",
              "      <th>ONE-LINE</th>\n",
              "      <th>STARS</th>\n",
              "      <th>VOTES</th>\n",
              "      <th>RunTime</th>\n",
              "      <th>Gross</th>\n",
              "    </tr>\n",
              "  </thead>\n",
              "  <tbody>\n",
              "    <tr>\n",
              "      <th>0</th>\n",
              "      <td>Blood Red Sky</td>\n",
              "      <td>(2021)</td>\n",
              "      <td>\\nAction, Horror, Thriller</td>\n",
              "      <td>6.1</td>\n",
              "      <td>\\nA woman with a mysterious illness is forced ...</td>\n",
              "      <td>\\n    Director:\\nPeter Thorwarth\\n| \\n    Star...</td>\n",
              "      <td>21,062</td>\n",
              "      <td>121.0</td>\n",
              "      <td>NaN</td>\n",
              "    </tr>\n",
              "    <tr>\n",
              "      <th>1</th>\n",
              "      <td>Masters of the Universe: Revelation</td>\n",
              "      <td>(2021– )</td>\n",
              "      <td>\\nAnimation, Action, Adventure</td>\n",
              "      <td>5.0</td>\n",
              "      <td>\\nThe war for Eternia begins again in what may...</td>\n",
              "      <td>\\n            \\n    Stars:\\nChris Wood, \\nSara...</td>\n",
              "      <td>17,870</td>\n",
              "      <td>25.0</td>\n",
              "      <td>NaN</td>\n",
              "    </tr>\n",
              "    <tr>\n",
              "      <th>2</th>\n",
              "      <td>The Walking Dead</td>\n",
              "      <td>(2010–2022)</td>\n",
              "      <td>\\nDrama, Horror, Thriller</td>\n",
              "      <td>8.2</td>\n",
              "      <td>\\nSheriff Deputy Rick Grimes wakes up from a c...</td>\n",
              "      <td>\\n            \\n    Stars:\\nAndrew Lincoln, \\n...</td>\n",
              "      <td>885,805</td>\n",
              "      <td>44.0</td>\n",
              "      <td>NaN</td>\n",
              "    </tr>\n",
              "    <tr>\n",
              "      <th>3</th>\n",
              "      <td>Rick and Morty</td>\n",
              "      <td>(2013– )</td>\n",
              "      <td>\\nAnimation, Adventure, Comedy</td>\n",
              "      <td>9.2</td>\n",
              "      <td>\\nAn animated series that follows the exploits...</td>\n",
              "      <td>\\n            \\n    Stars:\\nJustin Roiland, \\n...</td>\n",
              "      <td>414,849</td>\n",
              "      <td>23.0</td>\n",
              "      <td>NaN</td>\n",
              "    </tr>\n",
              "    <tr>\n",
              "      <th>4</th>\n",
              "      <td>Army of Thieves</td>\n",
              "      <td>(2021)</td>\n",
              "      <td>\\nAction, Crime, Horror</td>\n",
              "      <td>NaN</td>\n",
              "      <td>\\nA prequel, set before the events of Army of ...</td>\n",
              "      <td>\\n    Director:\\nMatthias Schweighöfer\\n| \\n  ...</td>\n",
              "      <td>NaN</td>\n",
              "      <td>NaN</td>\n",
              "      <td>NaN</td>\n",
              "    </tr>\n",
              "  </tbody>\n",
              "</table>\n",
              "</div>\n",
              "    <div class=\"colab-df-buttons\">\n",
              "\n",
              "  <div class=\"colab-df-container\">\n",
              "    <button class=\"colab-df-convert\" onclick=\"convertToInteractive('df-250acb35-3690-4655-ad12-15abd152c643')\"\n",
              "            title=\"Convert this dataframe to an interactive table.\"\n",
              "            style=\"display:none;\">\n",
              "\n",
              "  <svg xmlns=\"http://www.w3.org/2000/svg\" height=\"24px\" viewBox=\"0 -960 960 960\">\n",
              "    <path d=\"M120-120v-720h720v720H120Zm60-500h600v-160H180v160Zm220 220h160v-160H400v160Zm0 220h160v-160H400v160ZM180-400h160v-160H180v160Zm440 0h160v-160H620v160ZM180-180h160v-160H180v160Zm440 0h160v-160H620v160Z\"/>\n",
              "  </svg>\n",
              "    </button>\n",
              "\n",
              "  <style>\n",
              "    .colab-df-container {\n",
              "      display:flex;\n",
              "      gap: 12px;\n",
              "    }\n",
              "\n",
              "    .colab-df-convert {\n",
              "      background-color: #E8F0FE;\n",
              "      border: none;\n",
              "      border-radius: 50%;\n",
              "      cursor: pointer;\n",
              "      display: none;\n",
              "      fill: #1967D2;\n",
              "      height: 32px;\n",
              "      padding: 0 0 0 0;\n",
              "      width: 32px;\n",
              "    }\n",
              "\n",
              "    .colab-df-convert:hover {\n",
              "      background-color: #E2EBFA;\n",
              "      box-shadow: 0px 1px 2px rgba(60, 64, 67, 0.3), 0px 1px 3px 1px rgba(60, 64, 67, 0.15);\n",
              "      fill: #174EA6;\n",
              "    }\n",
              "\n",
              "    .colab-df-buttons div {\n",
              "      margin-bottom: 4px;\n",
              "    }\n",
              "\n",
              "    [theme=dark] .colab-df-convert {\n",
              "      background-color: #3B4455;\n",
              "      fill: #D2E3FC;\n",
              "    }\n",
              "\n",
              "    [theme=dark] .colab-df-convert:hover {\n",
              "      background-color: #434B5C;\n",
              "      box-shadow: 0px 1px 3px 1px rgba(0, 0, 0, 0.15);\n",
              "      filter: drop-shadow(0px 1px 2px rgba(0, 0, 0, 0.3));\n",
              "      fill: #FFFFFF;\n",
              "    }\n",
              "  </style>\n",
              "\n",
              "    <script>\n",
              "      const buttonEl =\n",
              "        document.querySelector('#df-250acb35-3690-4655-ad12-15abd152c643 button.colab-df-convert');\n",
              "      buttonEl.style.display =\n",
              "        google.colab.kernel.accessAllowed ? 'block' : 'none';\n",
              "\n",
              "      async function convertToInteractive(key) {\n",
              "        const element = document.querySelector('#df-250acb35-3690-4655-ad12-15abd152c643');\n",
              "        const dataTable =\n",
              "          await google.colab.kernel.invokeFunction('convertToInteractive',\n",
              "                                                    [key], {});\n",
              "        if (!dataTable) return;\n",
              "\n",
              "        const docLinkHtml = 'Like what you see? Visit the ' +\n",
              "          '<a target=\"_blank\" href=https://colab.research.google.com/notebooks/data_table.ipynb>data table notebook</a>'\n",
              "          + ' to learn more about interactive tables.';\n",
              "        element.innerHTML = '';\n",
              "        dataTable['output_type'] = 'display_data';\n",
              "        await google.colab.output.renderOutput(dataTable, element);\n",
              "        const docLink = document.createElement('div');\n",
              "        docLink.innerHTML = docLinkHtml;\n",
              "        element.appendChild(docLink);\n",
              "      }\n",
              "    </script>\n",
              "  </div>\n",
              "\n",
              "\n",
              "<div id=\"df-6931cdc1-5af0-43bb-915e-1f3509280283\">\n",
              "  <button class=\"colab-df-quickchart\" onclick=\"quickchart('df-6931cdc1-5af0-43bb-915e-1f3509280283')\"\n",
              "            title=\"Suggest charts\"\n",
              "            style=\"display:none;\">\n",
              "\n",
              "<svg xmlns=\"http://www.w3.org/2000/svg\" height=\"24px\"viewBox=\"0 0 24 24\"\n",
              "     width=\"24px\">\n",
              "    <g>\n",
              "        <path d=\"M19 3H5c-1.1 0-2 .9-2 2v14c0 1.1.9 2 2 2h14c1.1 0 2-.9 2-2V5c0-1.1-.9-2-2-2zM9 17H7v-7h2v7zm4 0h-2V7h2v10zm4 0h-2v-4h2v4z\"/>\n",
              "    </g>\n",
              "</svg>\n",
              "  </button>\n",
              "\n",
              "<style>\n",
              "  .colab-df-quickchart {\n",
              "      --bg-color: #E8F0FE;\n",
              "      --fill-color: #1967D2;\n",
              "      --hover-bg-color: #E2EBFA;\n",
              "      --hover-fill-color: #174EA6;\n",
              "      --disabled-fill-color: #AAA;\n",
              "      --disabled-bg-color: #DDD;\n",
              "  }\n",
              "\n",
              "  [theme=dark] .colab-df-quickchart {\n",
              "      --bg-color: #3B4455;\n",
              "      --fill-color: #D2E3FC;\n",
              "      --hover-bg-color: #434B5C;\n",
              "      --hover-fill-color: #FFFFFF;\n",
              "      --disabled-bg-color: #3B4455;\n",
              "      --disabled-fill-color: #666;\n",
              "  }\n",
              "\n",
              "  .colab-df-quickchart {\n",
              "    background-color: var(--bg-color);\n",
              "    border: none;\n",
              "    border-radius: 50%;\n",
              "    cursor: pointer;\n",
              "    display: none;\n",
              "    fill: var(--fill-color);\n",
              "    height: 32px;\n",
              "    padding: 0;\n",
              "    width: 32px;\n",
              "  }\n",
              "\n",
              "  .colab-df-quickchart:hover {\n",
              "    background-color: var(--hover-bg-color);\n",
              "    box-shadow: 0 1px 2px rgba(60, 64, 67, 0.3), 0 1px 3px 1px rgba(60, 64, 67, 0.15);\n",
              "    fill: var(--button-hover-fill-color);\n",
              "  }\n",
              "\n",
              "  .colab-df-quickchart-complete:disabled,\n",
              "  .colab-df-quickchart-complete:disabled:hover {\n",
              "    background-color: var(--disabled-bg-color);\n",
              "    fill: var(--disabled-fill-color);\n",
              "    box-shadow: none;\n",
              "  }\n",
              "\n",
              "  .colab-df-spinner {\n",
              "    border: 2px solid var(--fill-color);\n",
              "    border-color: transparent;\n",
              "    border-bottom-color: var(--fill-color);\n",
              "    animation:\n",
              "      spin 1s steps(1) infinite;\n",
              "  }\n",
              "\n",
              "  @keyframes spin {\n",
              "    0% {\n",
              "      border-color: transparent;\n",
              "      border-bottom-color: var(--fill-color);\n",
              "      border-left-color: var(--fill-color);\n",
              "    }\n",
              "    20% {\n",
              "      border-color: transparent;\n",
              "      border-left-color: var(--fill-color);\n",
              "      border-top-color: var(--fill-color);\n",
              "    }\n",
              "    30% {\n",
              "      border-color: transparent;\n",
              "      border-left-color: var(--fill-color);\n",
              "      border-top-color: var(--fill-color);\n",
              "      border-right-color: var(--fill-color);\n",
              "    }\n",
              "    40% {\n",
              "      border-color: transparent;\n",
              "      border-right-color: var(--fill-color);\n",
              "      border-top-color: var(--fill-color);\n",
              "    }\n",
              "    60% {\n",
              "      border-color: transparent;\n",
              "      border-right-color: var(--fill-color);\n",
              "    }\n",
              "    80% {\n",
              "      border-color: transparent;\n",
              "      border-right-color: var(--fill-color);\n",
              "      border-bottom-color: var(--fill-color);\n",
              "    }\n",
              "    90% {\n",
              "      border-color: transparent;\n",
              "      border-bottom-color: var(--fill-color);\n",
              "    }\n",
              "  }\n",
              "</style>\n",
              "\n",
              "  <script>\n",
              "    async function quickchart(key) {\n",
              "      const quickchartButtonEl =\n",
              "        document.querySelector('#' + key + ' button');\n",
              "      quickchartButtonEl.disabled = true;  // To prevent multiple clicks.\n",
              "      quickchartButtonEl.classList.add('colab-df-spinner');\n",
              "      try {\n",
              "        const charts = await google.colab.kernel.invokeFunction(\n",
              "            'suggestCharts', [key], {});\n",
              "      } catch (error) {\n",
              "        console.error('Error during call to suggestCharts:', error);\n",
              "      }\n",
              "      quickchartButtonEl.classList.remove('colab-df-spinner');\n",
              "      quickchartButtonEl.classList.add('colab-df-quickchart-complete');\n",
              "    }\n",
              "    (() => {\n",
              "      let quickchartButtonEl =\n",
              "        document.querySelector('#df-6931cdc1-5af0-43bb-915e-1f3509280283 button');\n",
              "      quickchartButtonEl.style.display =\n",
              "        google.colab.kernel.accessAllowed ? 'block' : 'none';\n",
              "    })();\n",
              "  </script>\n",
              "</div>\n",
              "\n",
              "    </div>\n",
              "  </div>\n"
            ],
            "application/vnd.google.colaboratory.intrinsic+json": {
              "type": "dataframe",
              "variable_name": "df",
              "summary": "{\n  \"name\": \"df\",\n  \"rows\": 9999,\n  \"fields\": [\n    {\n      \"column\": \"MOVIES\",\n      \"properties\": {\n        \"dtype\": \"string\",\n        \"num_unique_values\": 6817,\n        \"samples\": [\n          \"Murdoch Mysteries\",\n          \" The Queen's Gambit\",\n          \"El Expediente Santiso\"\n        ],\n        \"semantic_type\": \"\",\n        \"description\": \"\"\n      }\n    },\n    {\n      \"column\": \"YEAR\",\n      \"properties\": {\n        \"dtype\": \"category\",\n        \"num_unique_values\": 438,\n        \"samples\": [\n          \"(II) (2010)\",\n          \"(2016\\u20132020)\",\n          \"(2018 TV Movie)\"\n        ],\n        \"semantic_type\": \"\",\n        \"description\": \"\"\n      }\n    },\n    {\n      \"column\": \"GENRE\",\n      \"properties\": {\n        \"dtype\": \"category\",\n        \"num_unique_values\": 510,\n        \"samples\": [\n          \"\\nMusic, Musical            \",\n          \"\\nFamily, Musical            \",\n          \"\\nComedy, Animation            \"\n        ],\n        \"semantic_type\": \"\",\n        \"description\": \"\"\n      }\n    },\n    {\n      \"column\": \"RATING\",\n      \"properties\": {\n        \"dtype\": \"number\",\n        \"std\": 1.2202323628953267,\n        \"min\": 1.1,\n        \"max\": 9.9,\n        \"num_unique_values\": 82,\n        \"samples\": [\n          6.9,\n          6.1,\n          6.7\n        ],\n        \"semantic_type\": \"\",\n        \"description\": \"\"\n      }\n    },\n    {\n      \"column\": \"ONE-LINE\",\n      \"properties\": {\n        \"dtype\": \"string\",\n        \"num_unique_values\": 8688,\n        \"samples\": [\n          \"\\nThe comedic misadventures of Roy, Moss and their grifting supervisor Jen, a rag-tag team of IT support workers at a large corporation headed by a hotheaded yuppie.\",\n          \"\\nHeron works to free himself from his predicament. Alexia meets with her former master, Chiron the Wise. Hera sends Seraphim to retrieve Zeus's sword.\",\n          \"\\nHeartbroken, Mel heads to LA to support Joey at her divorce hearing. More of Jack's memories return. Lily asks her friends to care for her children.\"\n        ],\n        \"semantic_type\": \"\",\n        \"description\": \"\"\n      }\n    },\n    {\n      \"column\": \"STARS\",\n      \"properties\": {\n        \"dtype\": \"string\",\n        \"num_unique_values\": 7877,\n        \"samples\": [\n          \"\\n    Director:\\nSergei Bodrov\\n| \\n    Stars:\\nTadanobu Asano, \\nAmadu Mamadakov, \\nKhulan Chuluun, \\nHonglei Sun\\n\",\n          \"\\n    Director:\\nAlice Rohrwacher\\n| \\n    Stars:\\nAdriano Tardiolo, \\nAgnese Graziani, \\nAlba Rohrwacher, \\nLuca Chikovani\\n\",\n          \"\\n            \\n    Stars:\\nTahir Raj Bhasin, \\nShweta Tripathi, \\nAnchal Singh, \\nSurya Sharma\\n\"\n        ],\n        \"semantic_type\": \"\",\n        \"description\": \"\"\n      }\n    },\n    {\n      \"column\": \"VOTES\",\n      \"properties\": {\n        \"dtype\": \"category\",\n        \"num_unique_values\": 4129,\n        \"samples\": [\n          \"921\",\n          \"21,689\",\n          \"175,334\"\n        ],\n        \"semantic_type\": \"\",\n        \"description\": \"\"\n      }\n    },\n    {\n      \"column\": \"RunTime\",\n      \"properties\": {\n        \"dtype\": \"number\",\n        \"std\": 47.25805601877425,\n        \"min\": 1.0,\n        \"max\": 853.0,\n        \"num_unique_values\": 261,\n        \"samples\": [\n          118.0,\n          220.0,\n          142.0\n        ],\n        \"semantic_type\": \"\",\n        \"description\": \"\"\n      }\n    },\n    {\n      \"column\": \"Gross\",\n      \"properties\": {\n        \"dtype\": \"category\",\n        \"num_unique_values\": 332,\n        \"samples\": [\n          \"$28.26M\",\n          \"$23.59M\",\n          \"$229.09M\"\n        ],\n        \"semantic_type\": \"\",\n        \"description\": \"\"\n      }\n    }\n  ]\n}"
            }
          },
          "metadata": {},
          "execution_count": 63
        }
      ]
    },
    {
      "cell_type": "code",
      "source": [
        "df.info()\n"
      ],
      "metadata": {
        "colab": {
          "base_uri": "https://localhost:8080/"
        },
        "id": "6PXcNn9ZBGdA",
        "outputId": "e2e9b1e2-6744-49dd-fef3-7141b5b5174d"
      },
      "execution_count": 64,
      "outputs": [
        {
          "output_type": "stream",
          "name": "stdout",
          "text": [
            "<class 'pandas.core.frame.DataFrame'>\n",
            "RangeIndex: 9999 entries, 0 to 9998\n",
            "Data columns (total 9 columns):\n",
            " #   Column    Non-Null Count  Dtype  \n",
            "---  ------    --------------  -----  \n",
            " 0   MOVIES    9999 non-null   object \n",
            " 1   YEAR      9355 non-null   object \n",
            " 2   GENRE     9919 non-null   object \n",
            " 3   RATING    8179 non-null   float64\n",
            " 4   ONE-LINE  9999 non-null   object \n",
            " 5   STARS     9999 non-null   object \n",
            " 6   VOTES     8179 non-null   object \n",
            " 7   RunTime   7041 non-null   float64\n",
            " 8   Gross     460 non-null    object \n",
            "dtypes: float64(2), object(7)\n",
            "memory usage: 703.2+ KB\n"
          ]
        }
      ]
    },
    {
      "cell_type": "code",
      "source": [
        "#check null values\n",
        "print(df.isnull().sum())"
      ],
      "metadata": {
        "colab": {
          "base_uri": "https://localhost:8080/"
        },
        "id": "ShzSwupLBVh4",
        "outputId": "00f06c0e-9128-47ee-83ea-98fdb0962d96"
      },
      "execution_count": 65,
      "outputs": [
        {
          "output_type": "stream",
          "name": "stdout",
          "text": [
            "MOVIES         0\n",
            "YEAR         644\n",
            "GENRE         80\n",
            "RATING      1820\n",
            "ONE-LINE       0\n",
            "STARS          0\n",
            "VOTES       1820\n",
            "RunTime     2958\n",
            "Gross       9539\n",
            "dtype: int64\n"
          ]
        }
      ]
    },
    {
      "cell_type": "code",
      "source": [
        "#check duplicates\n",
        "df.duplicated().sum()"
      ],
      "metadata": {
        "colab": {
          "base_uri": "https://localhost:8080/"
        },
        "id": "hUR9ObnfBbRT",
        "outputId": "22483aef-b48d-4038-8819-8b2341f8d64c"
      },
      "execution_count": 66,
      "outputs": [
        {
          "output_type": "execute_result",
          "data": {
            "text/plain": [
              "431"
            ]
          },
          "metadata": {},
          "execution_count": 66
        }
      ]
    },
    {
      "cell_type": "markdown",
      "source": [
        "### Data cleaning"
      ],
      "metadata": {
        "id": "URkrIhtJCA2-"
      }
    },
    {
      "cell_type": "code",
      "source": [
        "# strip all columns to one standart (lower)\n",
        "df.columns = df.columns.str.strip().str.lower()\n",
        "df.columns"
      ],
      "metadata": {
        "colab": {
          "base_uri": "https://localhost:8080/"
        },
        "collapsed": true,
        "id": "Gt-NGYPSCEmd",
        "outputId": "681ade46-7b63-4617-d8d5-4df3dfedee65"
      },
      "execution_count": 67,
      "outputs": [
        {
          "output_type": "execute_result",
          "data": {
            "text/plain": [
              "Index(['movies', 'year', 'genre', 'rating', 'one-line', 'stars', 'votes',\n",
              "       'runtime', 'gross'],\n",
              "      dtype='object')"
            ]
          },
          "metadata": {},
          "execution_count": 67
        }
      ]
    },
    {
      "cell_type": "markdown",
      "source": [
        "**year**"
      ],
      "metadata": {
        "id": "zeBcKvNaCutP"
      }
    },
    {
      "cell_type": "code",
      "source": [
        "df['year'][:5]"
      ],
      "metadata": {
        "colab": {
          "base_uri": "https://localhost:8080/",
          "height": 241
        },
        "collapsed": true,
        "id": "OOu9qqzGCvL9",
        "outputId": "e7471217-510c-46e0-d8ab-7fe6cd7119b6"
      },
      "execution_count": 68,
      "outputs": [
        {
          "output_type": "execute_result",
          "data": {
            "text/plain": [
              "0         (2021)\n",
              "1       (2021– )\n",
              "2    (2010–2022)\n",
              "3       (2013– )\n",
              "4         (2021)\n",
              "Name: year, dtype: object"
            ],
            "text/html": [
              "<div>\n",
              "<style scoped>\n",
              "    .dataframe tbody tr th:only-of-type {\n",
              "        vertical-align: middle;\n",
              "    }\n",
              "\n",
              "    .dataframe tbody tr th {\n",
              "        vertical-align: top;\n",
              "    }\n",
              "\n",
              "    .dataframe thead th {\n",
              "        text-align: right;\n",
              "    }\n",
              "</style>\n",
              "<table border=\"1\" class=\"dataframe\">\n",
              "  <thead>\n",
              "    <tr style=\"text-align: right;\">\n",
              "      <th></th>\n",
              "      <th>year</th>\n",
              "    </tr>\n",
              "  </thead>\n",
              "  <tbody>\n",
              "    <tr>\n",
              "      <th>0</th>\n",
              "      <td>(2021)</td>\n",
              "    </tr>\n",
              "    <tr>\n",
              "      <th>1</th>\n",
              "      <td>(2021– )</td>\n",
              "    </tr>\n",
              "    <tr>\n",
              "      <th>2</th>\n",
              "      <td>(2010–2022)</td>\n",
              "    </tr>\n",
              "    <tr>\n",
              "      <th>3</th>\n",
              "      <td>(2013– )</td>\n",
              "    </tr>\n",
              "    <tr>\n",
              "      <th>4</th>\n",
              "      <td>(2021)</td>\n",
              "    </tr>\n",
              "  </tbody>\n",
              "</table>\n",
              "</div><br><label><b>dtype:</b> object</label>"
            ]
          },
          "metadata": {},
          "execution_count": 68
        }
      ]
    },
    {
      "cell_type": "code",
      "source": [
        "df['year'].isna().sum()"
      ],
      "metadata": {
        "colab": {
          "base_uri": "https://localhost:8080/"
        },
        "id": "3XLSzhN-C2pw",
        "outputId": "71225007-4393-44f2-a64d-134d794d0d8f"
      },
      "execution_count": 69,
      "outputs": [
        {
          "output_type": "execute_result",
          "data": {
            "text/plain": [
              "644"
            ]
          },
          "metadata": {},
          "execution_count": 69
        }
      ]
    },
    {
      "cell_type": "code",
      "source": [
        "#explore year column\n",
        "df['year'].unique()"
      ],
      "metadata": {
        "colab": {
          "base_uri": "https://localhost:8080/"
        },
        "collapsed": true,
        "id": "hOSfGPb8C7tP",
        "outputId": "048211a6-eb13-49bd-bc9c-f71780b8bd14"
      },
      "execution_count": 70,
      "outputs": [
        {
          "output_type": "execute_result",
          "data": {
            "text/plain": [
              "array(['(2021)', '(2021– )', '(2010–2022)', '(2013– )', '(2020– )',\n",
              "       '(2006–2013)', '(2019– )', '(2016–2021)', '(2011– )', '(2005– )',\n",
              "       '(2008–2013)', '(2017– )', '(2017–2021)', '(2016– )',\n",
              "       '(1994–2004)', '(2014– )', '(2013–2020)', '(2015– )',\n",
              "       '(2005–2020)', '(2013–2022)', '(2003– )', '(2009–2020)',\n",
              "       '(I) (2018– )', '(2010–2015)', '(2011–2019)', '(2015–2020)',\n",
              "       '(2005–2014)', '(2009–2015)', '(2008–2014)', '(2016–2018)',\n",
              "       '(2009–2017)', '(2020)', '(2018–2021)', '(2017–2020)',\n",
              "       '(1987–1994)', '(2018– )', '(2012– )', '(2014–2020)',\n",
              "       '(2011–2018)', '(2005–2017)', '(2017)', '(2007–2015)',\n",
              "       '(2000–2007)', '(II) (2007– )', '(1993)', '(1999–2022)',\n",
              "       '(2015–2018)', '(2014–2019)', '(2016)', '(2012–2020)',\n",
              "       '(2013–2019)', '(2007–2012)', '(2011–2020)', '(2010–2017)',\n",
              "       '(2000–2015)', '(2015–2021)', '(2001)', '(1997– )', '(2011–2017)',\n",
              "       '(1993–1999)', '(1989–1998)', '(2010–2013)', '(2010–2020)',\n",
              "       '(2003–2019)', '(I) (2019)', '(2017–2019)', '(1975)',\n",
              "       '(2005–2008)', '(1995–2001)', '(2006)', '(2015–2017)',\n",
              "       '(2008–2020)', '(1984–1996)', '(2010– )', '(2014)', '(2000)',\n",
              "       '(2013–2018)', '(2009–2016)', '(2016–2020)', '(2021 TV Special)',\n",
              "       '(2003)', '(1998–2003)', '(I) (2017)', '(1966–1969)', '(2009– )',\n",
              "       '(2019)', '(1990–1991)', '(2012)', '(1995)', '(2020–2021)',\n",
              "       '(2013–2017)', '(2015)', '(2019–2020)', '(2017–2018)',\n",
              "       '(2013–2015)', '(2012–2017)', '(I) (2013–2016)', '(2002)',\n",
              "       '(I) (2020)', '(III) (2021)', '(2018)', '(II) (2016)', '(1976)',\n",
              "       '(1978)', '(2016–2019)', '(2009–2014)', '(2022)', '(2011–2014)',\n",
              "       '(2007–2013)', '(2006–2007)', '(2002–2007)', '(2014–2017)',\n",
              "       '(2010–2019)', '(2008– )', '(2012–2019)', '(2014–2016)',\n",
              "       '(2009–2012)', '(2018–2020)', '(2001–2005)', '(2011–2015)',\n",
              "       '(2014–2018)', '(2015–2019)', '(1982–1993)', '(1998– )', '(1968)',\n",
              "       '(2010–2018)', '(2014–2021)', '(2007–2010)', '(2011)',\n",
              "       '(2013–2021)', '(1990–1996)', '(2004)', '(2007–2014)',\n",
              "       '(1996–2001)', '(2013)', '(2008)', '(1999–2000)', '(2012–2014)',\n",
              "       '(I) (2013)', '(2012–2018)', '(2018–2019)', '(2009–2013)',\n",
              "       '(1971)', '(2004– )', '(1989)', '(1998)', '(2001–2018)',\n",
              "       '(1987–1995)', '(I) (2014)', '(1998–2020)', '(I) (2015)', '(1997)',\n",
              "       '(2004–2013)', '(2002– )', '(2010)', '(I) (2016)', '(II) (2017– )',\n",
              "       '(I) (2018)', '(I) (2021)', '(2004–2012)', '(2019–2021)',\n",
              "       '(IV) (2020)', '(2006–2010)', '(2006–2012)', '(1996)',\n",
              "       '(1994–2000)', '(II) (2020)', '(1980)', '(I) (2011)',\n",
              "       '(1995–1996)', '(2016–2017)', '(1993–1996)', '(II) (2019– )',\n",
              "       '(2009)', '(1962)', '(1991)', '(2022– )', '(II) (2017)',\n",
              "       '(I) (2012)', '(1984)', '(2011–2016)', '(2009–2019)',\n",
              "       '(II) (2020– )', '(2006–2021)', '(I) (2010)', '(2012–2015)',\n",
              "       '(I) (2013–2014)', '(1960)', '(1988)', '(2007)', '(1987)',\n",
              "       '(2010–2011)', '(1969)', '(2006–2011)', '(II) (2019)', '(1961)',\n",
              "       '(1979)', '(II) (2022)', '(2014–2015)', '(1956)', '(2013–2016)',\n",
              "       '(III) (2018)', '(2005)', '(II) (2012– )', '(II) (2013)', '(1983)',\n",
              "       '(2002–2019)', '(2013 TV Movie)', '(II) (2015)', '(I) (2012–2015)',\n",
              "       '(1975–1979)', '(1990)', nan, '(II) (2018)', '(IV) (2021)',\n",
              "       '(2015–2016)', '(1995–1998)', '(1986)', '(2012–2013)', '(1966)',\n",
              "       '(2011–2012)', '(2011–2021)', '(2016 Video)', '(2017 TV Movie)',\n",
              "       '(2009–2011)', '(2004–2018)', '(1967)', '(1984– )', '(1994)',\n",
              "       '(2003–2006)', '(III) (2015)', '(1974)', '(2000–2004)',\n",
              "       '(1984–2021)', '(I)', '(II) (2021)', '(1994–1999)', '(III)',\n",
              "       '(1992)', '(1969–1974)', '(2012–2016)', '(2013–2014)',\n",
              "       '(I) (2008)', '(1958)', '(2008–2009)', '(II) (2004)',\n",
              "       '(III) (2019)', '(2006–2009)', '(2011–2013)', '(2007–2008)',\n",
              "       '(1988–1999)', '(2010–2012)', '(2010–2014)', '(II) (2012)',\n",
              "       '(1932)', '(2014 TV Movie)', '(1941)', '(2006– )', '(1992–1995)',\n",
              "       '(2016 TV Special)', '(2020 TV Movie)', '(2008–2010)', '(II)',\n",
              "       '(2020 Video)', '(1999– )', '(1950)', '(2020 TV Special)',\n",
              "       '(1992–2014)', '(2002–2005)', '(2013 TV Special)', '(I) (2021– )',\n",
              "       '(1999)', '(2016 TV Movie)', '(XII)', '(VII)', '(2021 TV Movie)',\n",
              "       '(1983– )', '(1996 Video)', '(1993 TV Movie)', '(2018 TV Movie)',\n",
              "       '(2005–2009)', '(2001–2002)', '(2015 TV Movie)', '(I) (2020– )',\n",
              "       '(2011 Video)', '(2008 Video)', '(2012 Video)', '(1946)',\n",
              "       '(II) (2014)', '(2019 Video)', '(1981–1989)', '(IV) (2016)',\n",
              "       '(III) (2016)', '(2019 TV Movie)', '(1952)', '(2007 Video)',\n",
              "       '(2000–2014)', '(1992– )', '(1957)', '(2003–2007)', '(IV)',\n",
              "       '(2008–2017)', '(2008–2019)', '(1998–2000)', '(I) (2004)',\n",
              "       '(2007–2016)', '(2017 TV Special)', '(2009 TV Movie)',\n",
              "       '(2013 Video)', '(2017 Video)', '(1994–1996)', '(IV) (2017)',\n",
              "       '(IV) (2018)', '(2007– )', '(1954)', '(2012 TV Movie)', '(1995– )',\n",
              "       '(1982)', '(1955)', '(2014 TV Short)', '(I) (2022– )',\n",
              "       '(I) (2019–2020)', '(1975 TV Movie)', '(2019 TV Special)',\n",
              "       '(2015 TV Special)', '(2015 TV Short)', '(2018 TV Special)',\n",
              "       '(1948)', '(2014 Video)', '(VI) (2014)', '(2003–2013)',\n",
              "       '(2021 Video)', '(1947)', '(2001– )', '(II) (2021– )',\n",
              "       '(1997–2000)', '(III) (2020)', '(I) (2019– )', '(1993– )',\n",
              "       '(1977)', '(I) (2009)', '(V)', '(2023)', '(I) (2000)',\n",
              "       '(TV Special)', '(II) (2011)', '(TV Movie)', '(1945)',\n",
              "       '(2015 Video)', '(III) (2010)', '(2009 Video)', '(1998–2002)',\n",
              "       '(2008 TV Movie)', '(2019 TV Short)', '(2004 Video)',\n",
              "       '(II) (1998)', '(2014 TV Special)', '(1953)', '(1985)', '(VIII)',\n",
              "       '(1973)', '(2012 TV Special)', '(V) (2016)', '(1972)',\n",
              "       '(V) (2018)', '(II) (2010)', '(2021 TV Short)', '(VI) (2019)',\n",
              "       '(I) (2005)', '(1965)', '(2010–2016)', '(V) (2010)', '(2005–2013)',\n",
              "       '(2006 TV Special)', '(2006 Video)', '(2011 TV Movie)',\n",
              "       '(1988 TV Movie)', '(XXIII)', '(2011 TV Special)',\n",
              "       '(2020 TV Short)', '(VI) (2018)', '(2008 TV Special)',\n",
              "       '(1998–1999)', '(I) (2015– )', '(III) (2012)', '(VI)',\n",
              "       '(2010 TV Special)', '(III) (2017)', '(1993 TV Special)',\n",
              "       '(2004–2005)', '(1992 Video)', '(1989 TV Special)', '(XI)',\n",
              "       '(III) (2014)', '(1966 TV Special)', '(1999 TV Movie)',\n",
              "       '(1987 TV Special)', '(1944)', '(1998 TV Special)',\n",
              "       '(2006 TV Movie)', '(2022 TV Special)', '(1989 Video)',\n",
              "       '(1991 TV Special)', '(XLI)', '(IV) (2014)', '(2005 Video)',\n",
              "       '(2007 TV Special)', '(1965 TV Special)', '(1990 TV Special)',\n",
              "       '(2001 TV Special)', '(IX)', '(II) (2016– )', '(XIV) (2017)',\n",
              "       '(2009–2010)', '(XIII)', '(II) (2012–2019)', '(1933)',\n",
              "       '(II) (2009)', '(2010 Video)', '(2009 TV Special)', '(1938)',\n",
              "       '(2003 TV Special)', '(Video)', '(2001 TV Movie)', '(VI) (2016)',\n",
              "       '(III) (2011)', '(2007 TV Movie)', '(2017 TV Short)',\n",
              "       '(2018 Video)', '(2000 Video)', '(1995 Video)', '(2003 Video)',\n",
              "       '(II) (2016 TV Movie)', '(1998 Video)', '(2005 TV Special)',\n",
              "       '(2004–2009)', '(2018 Video Game)', '(1988– )', '(1985– )'],\n",
              "      dtype=object)"
            ]
          },
          "metadata": {},
          "execution_count": 70
        }
      ]
    },
    {
      "cell_type": "code",
      "source": [
        "#remove all characters and convert to int\n",
        "df['year'] = df['year'].str.extract(\"(\\d{4})\", expand = False)\n",
        "df['year'].unique()"
      ],
      "metadata": {
        "colab": {
          "base_uri": "https://localhost:8080/"
        },
        "collapsed": true,
        "id": "7JQGgOBHDEWO",
        "outputId": "7afd4fe7-7cc2-4166-dcdf-5efe38101afd"
      },
      "execution_count": 71,
      "outputs": [
        {
          "output_type": "execute_result",
          "data": {
            "text/plain": [
              "array(['2021', '2010', '2013', '2020', '2006', '2019', '2016', '2011',\n",
              "       '2005', '2008', '2017', '1994', '2014', '2015', '2003', '2009',\n",
              "       '2018', '1987', '2012', '2007', '2000', '1993', '1999', '2001',\n",
              "       '1997', '1989', '1975', '1995', '1984', '1998', '1966', '1990',\n",
              "       '2002', '1976', '1978', '2022', '1982', '1968', '2004', '1996',\n",
              "       '1971', '1980', '1962', '1991', '1960', '1988', '1969', '1961',\n",
              "       '1979', '1956', '1983', nan, '1986', '1967', '1974', '1992',\n",
              "       '1958', '1932', '1941', '1950', '1946', '1981', '1952', '1957',\n",
              "       '1954', '1955', '1948', '1947', '1977', '2023', '1945', '1953',\n",
              "       '1985', '1973', '1972', '1965', '1944', '1933', '1938'],\n",
              "      dtype=object)"
            ]
          },
          "metadata": {},
          "execution_count": 71
        }
      ]
    },
    {
      "cell_type": "code",
      "source": [
        "#change dtype from object to int\n",
        "#if 'coerce', then invalid parsing will be set as NaN\n",
        "df['year'] = pd.to_numeric(df['year'], errors = 'coerce')"
      ],
      "metadata": {
        "id": "39HL54wTDi1n"
      },
      "execution_count": 72,
      "outputs": []
    },
    {
      "cell_type": "markdown",
      "source": [
        "**genre**"
      ],
      "metadata": {
        "id": "b5xAV_znFHsE"
      }
    },
    {
      "cell_type": "code",
      "source": [
        "df['genre'][:5]"
      ],
      "metadata": {
        "colab": {
          "base_uri": "https://localhost:8080/",
          "height": 241
        },
        "collapsed": true,
        "id": "weqdExT0ECBY",
        "outputId": "942ac004-0deb-4253-d9c7-6d3010cb9a70"
      },
      "execution_count": 73,
      "outputs": [
        {
          "output_type": "execute_result",
          "data": {
            "text/plain": [
              "0        \\nAction, Horror, Thriller            \n",
              "1    \\nAnimation, Action, Adventure            \n",
              "2         \\nDrama, Horror, Thriller            \n",
              "3    \\nAnimation, Adventure, Comedy            \n",
              "4           \\nAction, Crime, Horror            \n",
              "Name: genre, dtype: object"
            ],
            "text/html": [
              "<div>\n",
              "<style scoped>\n",
              "    .dataframe tbody tr th:only-of-type {\n",
              "        vertical-align: middle;\n",
              "    }\n",
              "\n",
              "    .dataframe tbody tr th {\n",
              "        vertical-align: top;\n",
              "    }\n",
              "\n",
              "    .dataframe thead th {\n",
              "        text-align: right;\n",
              "    }\n",
              "</style>\n",
              "<table border=\"1\" class=\"dataframe\">\n",
              "  <thead>\n",
              "    <tr style=\"text-align: right;\">\n",
              "      <th></th>\n",
              "      <th>genre</th>\n",
              "    </tr>\n",
              "  </thead>\n",
              "  <tbody>\n",
              "    <tr>\n",
              "      <th>0</th>\n",
              "      <td>\\nAction, Horror, Thriller</td>\n",
              "    </tr>\n",
              "    <tr>\n",
              "      <th>1</th>\n",
              "      <td>\\nAnimation, Action, Adventure</td>\n",
              "    </tr>\n",
              "    <tr>\n",
              "      <th>2</th>\n",
              "      <td>\\nDrama, Horror, Thriller</td>\n",
              "    </tr>\n",
              "    <tr>\n",
              "      <th>3</th>\n",
              "      <td>\\nAnimation, Adventure, Comedy</td>\n",
              "    </tr>\n",
              "    <tr>\n",
              "      <th>4</th>\n",
              "      <td>\\nAction, Crime, Horror</td>\n",
              "    </tr>\n",
              "  </tbody>\n",
              "</table>\n",
              "</div><br><label><b>dtype:</b> object</label>"
            ]
          },
          "metadata": {},
          "execution_count": 73
        }
      ]
    },
    {
      "cell_type": "code",
      "source": [
        "df['genre'].isna().sum()"
      ],
      "metadata": {
        "colab": {
          "base_uri": "https://localhost:8080/"
        },
        "collapsed": true,
        "id": "_VKdP6k2FMsd",
        "outputId": "43a7cfef-df37-46b2-c6a1-cf2dd6f54344"
      },
      "execution_count": 74,
      "outputs": [
        {
          "output_type": "execute_result",
          "data": {
            "text/plain": [
              "80"
            ]
          },
          "metadata": {},
          "execution_count": 74
        }
      ]
    },
    {
      "cell_type": "code",
      "source": [
        "df['genre'] = df['genre'].str.strip()\n",
        "df['genre'][:5]"
      ],
      "metadata": {
        "colab": {
          "base_uri": "https://localhost:8080/",
          "height": 241
        },
        "collapsed": true,
        "id": "FfTHVOsaFWh_",
        "outputId": "77d638a8-1846-4167-f73b-6487e93488d9"
      },
      "execution_count": 75,
      "outputs": [
        {
          "output_type": "execute_result",
          "data": {
            "text/plain": [
              "0        Action, Horror, Thriller\n",
              "1    Animation, Action, Adventure\n",
              "2         Drama, Horror, Thriller\n",
              "3    Animation, Adventure, Comedy\n",
              "4           Action, Crime, Horror\n",
              "Name: genre, dtype: object"
            ],
            "text/html": [
              "<div>\n",
              "<style scoped>\n",
              "    .dataframe tbody tr th:only-of-type {\n",
              "        vertical-align: middle;\n",
              "    }\n",
              "\n",
              "    .dataframe tbody tr th {\n",
              "        vertical-align: top;\n",
              "    }\n",
              "\n",
              "    .dataframe thead th {\n",
              "        text-align: right;\n",
              "    }\n",
              "</style>\n",
              "<table border=\"1\" class=\"dataframe\">\n",
              "  <thead>\n",
              "    <tr style=\"text-align: right;\">\n",
              "      <th></th>\n",
              "      <th>genre</th>\n",
              "    </tr>\n",
              "  </thead>\n",
              "  <tbody>\n",
              "    <tr>\n",
              "      <th>0</th>\n",
              "      <td>Action, Horror, Thriller</td>\n",
              "    </tr>\n",
              "    <tr>\n",
              "      <th>1</th>\n",
              "      <td>Animation, Action, Adventure</td>\n",
              "    </tr>\n",
              "    <tr>\n",
              "      <th>2</th>\n",
              "      <td>Drama, Horror, Thriller</td>\n",
              "    </tr>\n",
              "    <tr>\n",
              "      <th>3</th>\n",
              "      <td>Animation, Adventure, Comedy</td>\n",
              "    </tr>\n",
              "    <tr>\n",
              "      <th>4</th>\n",
              "      <td>Action, Crime, Horror</td>\n",
              "    </tr>\n",
              "  </tbody>\n",
              "</table>\n",
              "</div><br><label><b>dtype:</b> object</label>"
            ]
          },
          "metadata": {},
          "execution_count": 75
        }
      ]
    },
    {
      "cell_type": "markdown",
      "source": [
        "**rating**"
      ],
      "metadata": {
        "id": "sg-qQc19FzDs"
      }
    },
    {
      "cell_type": "code",
      "source": [
        "df['rating'][:5]"
      ],
      "metadata": {
        "colab": {
          "base_uri": "https://localhost:8080/",
          "height": 241
        },
        "collapsed": true,
        "id": "6FQdfvVWF1up",
        "outputId": "6c3fd355-ccae-458f-86cb-8af4f7a219f1"
      },
      "execution_count": 76,
      "outputs": [
        {
          "output_type": "execute_result",
          "data": {
            "text/plain": [
              "0    6.1\n",
              "1    5.0\n",
              "2    8.2\n",
              "3    9.2\n",
              "4    NaN\n",
              "Name: rating, dtype: float64"
            ],
            "text/html": [
              "<div>\n",
              "<style scoped>\n",
              "    .dataframe tbody tr th:only-of-type {\n",
              "        vertical-align: middle;\n",
              "    }\n",
              "\n",
              "    .dataframe tbody tr th {\n",
              "        vertical-align: top;\n",
              "    }\n",
              "\n",
              "    .dataframe thead th {\n",
              "        text-align: right;\n",
              "    }\n",
              "</style>\n",
              "<table border=\"1\" class=\"dataframe\">\n",
              "  <thead>\n",
              "    <tr style=\"text-align: right;\">\n",
              "      <th></th>\n",
              "      <th>rating</th>\n",
              "    </tr>\n",
              "  </thead>\n",
              "  <tbody>\n",
              "    <tr>\n",
              "      <th>0</th>\n",
              "      <td>6.1</td>\n",
              "    </tr>\n",
              "    <tr>\n",
              "      <th>1</th>\n",
              "      <td>5.0</td>\n",
              "    </tr>\n",
              "    <tr>\n",
              "      <th>2</th>\n",
              "      <td>8.2</td>\n",
              "    </tr>\n",
              "    <tr>\n",
              "      <th>3</th>\n",
              "      <td>9.2</td>\n",
              "    </tr>\n",
              "    <tr>\n",
              "      <th>4</th>\n",
              "      <td>NaN</td>\n",
              "    </tr>\n",
              "  </tbody>\n",
              "</table>\n",
              "</div><br><label><b>dtype:</b> float64</label>"
            ]
          },
          "metadata": {},
          "execution_count": 76
        }
      ]
    },
    {
      "cell_type": "code",
      "source": [
        "df['rating'].unique()"
      ],
      "metadata": {
        "colab": {
          "base_uri": "https://localhost:8080/"
        },
        "collapsed": true,
        "id": "1BE_htJLF9EH",
        "outputId": "2ef09ddf-5a8f-4129-efa7-cb357818da67"
      },
      "execution_count": 77,
      "outputs": [
        {
          "output_type": "execute_result",
          "data": {
            "text/plain": [
              "array([6.1, 5. , 8.2, 9.2, nan, 7.6, 6.8, 8.6, 7.9, 7.4, 6. , 8.1, 6.2,\n",
              "       5.4, 8. , 7.5, 9.4, 8.3, 8.7, 8.9, 8.8, 8.5, 8.4, 6.7, 7.7, 9. ,\n",
              "       5.8, 3.3, 7.8, 5.7, 6.6, 6.9, 6.5, 7.1, 5.6, 7.3, 9.1, 7.2, 6.4,\n",
              "       9.3, 7. , 6.3, 3.7, 5.5, 4.6, 4.8, 5.3, 4.7, 5.9, 5.1, 4.9, 2.7,\n",
              "       4.4, 3.1, 4.5, 4.2, 3.8, 5.2, 2.8, 3.5, 4.3, 3.2, 1.1, 3.9, 4. ,\n",
              "       3.4, 2.6, 3.6, 3. , 2.5, 2.2, 2.9, 4.1, 2.1, 2. , 2.3, 2.4, 1.8,\n",
              "       9.6, 9.5, 9.7, 9.9, 9.8])"
            ]
          },
          "metadata": {},
          "execution_count": 77
        }
      ]
    },
    {
      "cell_type": "code",
      "source": [
        "df['rating'] = pd.to_numeric(df['rating'], errors='coerce')\n",
        "df['rating']"
      ],
      "metadata": {
        "colab": {
          "base_uri": "https://localhost:8080/",
          "height": 458
        },
        "collapsed": true,
        "id": "FOt00r2LGDEY",
        "outputId": "e9decb3b-e28b-4b56-9e78-c9557660bdcb"
      },
      "execution_count": 78,
      "outputs": [
        {
          "output_type": "execute_result",
          "data": {
            "text/plain": [
              "0       6.1\n",
              "1       5.0\n",
              "2       8.2\n",
              "3       9.2\n",
              "4       NaN\n",
              "       ... \n",
              "9994    NaN\n",
              "9995    NaN\n",
              "9996    NaN\n",
              "9997    NaN\n",
              "9998    NaN\n",
              "Name: rating, Length: 9999, dtype: float64"
            ],
            "text/html": [
              "<div>\n",
              "<style scoped>\n",
              "    .dataframe tbody tr th:only-of-type {\n",
              "        vertical-align: middle;\n",
              "    }\n",
              "\n",
              "    .dataframe tbody tr th {\n",
              "        vertical-align: top;\n",
              "    }\n",
              "\n",
              "    .dataframe thead th {\n",
              "        text-align: right;\n",
              "    }\n",
              "</style>\n",
              "<table border=\"1\" class=\"dataframe\">\n",
              "  <thead>\n",
              "    <tr style=\"text-align: right;\">\n",
              "      <th></th>\n",
              "      <th>rating</th>\n",
              "    </tr>\n",
              "  </thead>\n",
              "  <tbody>\n",
              "    <tr>\n",
              "      <th>0</th>\n",
              "      <td>6.1</td>\n",
              "    </tr>\n",
              "    <tr>\n",
              "      <th>1</th>\n",
              "      <td>5.0</td>\n",
              "    </tr>\n",
              "    <tr>\n",
              "      <th>2</th>\n",
              "      <td>8.2</td>\n",
              "    </tr>\n",
              "    <tr>\n",
              "      <th>3</th>\n",
              "      <td>9.2</td>\n",
              "    </tr>\n",
              "    <tr>\n",
              "      <th>4</th>\n",
              "      <td>NaN</td>\n",
              "    </tr>\n",
              "    <tr>\n",
              "      <th>...</th>\n",
              "      <td>...</td>\n",
              "    </tr>\n",
              "    <tr>\n",
              "      <th>9994</th>\n",
              "      <td>NaN</td>\n",
              "    </tr>\n",
              "    <tr>\n",
              "      <th>9995</th>\n",
              "      <td>NaN</td>\n",
              "    </tr>\n",
              "    <tr>\n",
              "      <th>9996</th>\n",
              "      <td>NaN</td>\n",
              "    </tr>\n",
              "    <tr>\n",
              "      <th>9997</th>\n",
              "      <td>NaN</td>\n",
              "    </tr>\n",
              "    <tr>\n",
              "      <th>9998</th>\n",
              "      <td>NaN</td>\n",
              "    </tr>\n",
              "  </tbody>\n",
              "</table>\n",
              "<p>9999 rows × 1 columns</p>\n",
              "</div><br><label><b>dtype:</b> float64</label>"
            ]
          },
          "metadata": {},
          "execution_count": 78
        }
      ]
    },
    {
      "cell_type": "markdown",
      "source": [
        "**one-line**"
      ],
      "metadata": {
        "id": "bCmTBJaXG0sl"
      }
    },
    {
      "cell_type": "code",
      "source": [
        "df['one-line']"
      ],
      "metadata": {
        "colab": {
          "base_uri": "https://localhost:8080/",
          "height": 458
        },
        "collapsed": true,
        "id": "2sqqVxTQG3vr",
        "outputId": "e829cead-f106-4e71-cac7-9bcd7610f9b0"
      },
      "execution_count": 79,
      "outputs": [
        {
          "output_type": "execute_result",
          "data": {
            "text/plain": [
              "0       \\nA woman with a mysterious illness is forced ...\n",
              "1       \\nThe war for Eternia begins again in what may...\n",
              "2       \\nSheriff Deputy Rick Grimes wakes up from a c...\n",
              "3       \\nAn animated series that follows the exploits...\n",
              "4       \\nA prequel, set before the events of Army of ...\n",
              "                              ...                        \n",
              "9994                                       \\nAdd a Plot\\n\n",
              "9995                                       \\nAdd a Plot\\n\n",
              "9996                                       \\nAdd a Plot\\n\n",
              "9997                                       \\nAdd a Plot\\n\n",
              "9998                                       \\nAdd a Plot\\n\n",
              "Name: one-line, Length: 9999, dtype: object"
            ],
            "text/html": [
              "<div>\n",
              "<style scoped>\n",
              "    .dataframe tbody tr th:only-of-type {\n",
              "        vertical-align: middle;\n",
              "    }\n",
              "\n",
              "    .dataframe tbody tr th {\n",
              "        vertical-align: top;\n",
              "    }\n",
              "\n",
              "    .dataframe thead th {\n",
              "        text-align: right;\n",
              "    }\n",
              "</style>\n",
              "<table border=\"1\" class=\"dataframe\">\n",
              "  <thead>\n",
              "    <tr style=\"text-align: right;\">\n",
              "      <th></th>\n",
              "      <th>one-line</th>\n",
              "    </tr>\n",
              "  </thead>\n",
              "  <tbody>\n",
              "    <tr>\n",
              "      <th>0</th>\n",
              "      <td>\\nA woman with a mysterious illness is forced ...</td>\n",
              "    </tr>\n",
              "    <tr>\n",
              "      <th>1</th>\n",
              "      <td>\\nThe war for Eternia begins again in what may...</td>\n",
              "    </tr>\n",
              "    <tr>\n",
              "      <th>2</th>\n",
              "      <td>\\nSheriff Deputy Rick Grimes wakes up from a c...</td>\n",
              "    </tr>\n",
              "    <tr>\n",
              "      <th>3</th>\n",
              "      <td>\\nAn animated series that follows the exploits...</td>\n",
              "    </tr>\n",
              "    <tr>\n",
              "      <th>4</th>\n",
              "      <td>\\nA prequel, set before the events of Army of ...</td>\n",
              "    </tr>\n",
              "    <tr>\n",
              "      <th>...</th>\n",
              "      <td>...</td>\n",
              "    </tr>\n",
              "    <tr>\n",
              "      <th>9994</th>\n",
              "      <td>\\nAdd a Plot\\n</td>\n",
              "    </tr>\n",
              "    <tr>\n",
              "      <th>9995</th>\n",
              "      <td>\\nAdd a Plot\\n</td>\n",
              "    </tr>\n",
              "    <tr>\n",
              "      <th>9996</th>\n",
              "      <td>\\nAdd a Plot\\n</td>\n",
              "    </tr>\n",
              "    <tr>\n",
              "      <th>9997</th>\n",
              "      <td>\\nAdd a Plot\\n</td>\n",
              "    </tr>\n",
              "    <tr>\n",
              "      <th>9998</th>\n",
              "      <td>\\nAdd a Plot\\n</td>\n",
              "    </tr>\n",
              "  </tbody>\n",
              "</table>\n",
              "<p>9999 rows × 1 columns</p>\n",
              "</div><br><label><b>dtype:</b> object</label>"
            ]
          },
          "metadata": {},
          "execution_count": 79
        }
      ]
    },
    {
      "cell_type": "code",
      "source": [
        "df['one-line'] = df['one-line'].str.strip().replace('Add a Plot', 'Unknown').str.replace('[^\\w\\s]', '', regex=True)"
      ],
      "metadata": {
        "id": "1vQM7mewG76q"
      },
      "execution_count": 80,
      "outputs": []
    },
    {
      "cell_type": "code",
      "source": [
        "df['one-line']"
      ],
      "metadata": {
        "colab": {
          "base_uri": "https://localhost:8080/",
          "height": 458
        },
        "collapsed": true,
        "id": "zM6lYBJZHID8",
        "outputId": "497f6865-02d0-48ab-d85d-7f6dc37ed6db"
      },
      "execution_count": 81,
      "outputs": [
        {
          "output_type": "execute_result",
          "data": {
            "text/plain": [
              "0       A woman with a mysterious illness is forced in...\n",
              "1       The war for Eternia begins again in what may b...\n",
              "2       Sheriff Deputy Rick Grimes wakes up from a com...\n",
              "3       An animated series that follows the exploits o...\n",
              "4       A prequel set before the events of Army of the...\n",
              "                              ...                        \n",
              "9994                                              Unknown\n",
              "9995                                              Unknown\n",
              "9996                                              Unknown\n",
              "9997                                              Unknown\n",
              "9998                                              Unknown\n",
              "Name: one-line, Length: 9999, dtype: object"
            ],
            "text/html": [
              "<div>\n",
              "<style scoped>\n",
              "    .dataframe tbody tr th:only-of-type {\n",
              "        vertical-align: middle;\n",
              "    }\n",
              "\n",
              "    .dataframe tbody tr th {\n",
              "        vertical-align: top;\n",
              "    }\n",
              "\n",
              "    .dataframe thead th {\n",
              "        text-align: right;\n",
              "    }\n",
              "</style>\n",
              "<table border=\"1\" class=\"dataframe\">\n",
              "  <thead>\n",
              "    <tr style=\"text-align: right;\">\n",
              "      <th></th>\n",
              "      <th>one-line</th>\n",
              "    </tr>\n",
              "  </thead>\n",
              "  <tbody>\n",
              "    <tr>\n",
              "      <th>0</th>\n",
              "      <td>A woman with a mysterious illness is forced in...</td>\n",
              "    </tr>\n",
              "    <tr>\n",
              "      <th>1</th>\n",
              "      <td>The war for Eternia begins again in what may b...</td>\n",
              "    </tr>\n",
              "    <tr>\n",
              "      <th>2</th>\n",
              "      <td>Sheriff Deputy Rick Grimes wakes up from a com...</td>\n",
              "    </tr>\n",
              "    <tr>\n",
              "      <th>3</th>\n",
              "      <td>An animated series that follows the exploits o...</td>\n",
              "    </tr>\n",
              "    <tr>\n",
              "      <th>4</th>\n",
              "      <td>A prequel set before the events of Army of the...</td>\n",
              "    </tr>\n",
              "    <tr>\n",
              "      <th>...</th>\n",
              "      <td>...</td>\n",
              "    </tr>\n",
              "    <tr>\n",
              "      <th>9994</th>\n",
              "      <td>Unknown</td>\n",
              "    </tr>\n",
              "    <tr>\n",
              "      <th>9995</th>\n",
              "      <td>Unknown</td>\n",
              "    </tr>\n",
              "    <tr>\n",
              "      <th>9996</th>\n",
              "      <td>Unknown</td>\n",
              "    </tr>\n",
              "    <tr>\n",
              "      <th>9997</th>\n",
              "      <td>Unknown</td>\n",
              "    </tr>\n",
              "    <tr>\n",
              "      <th>9998</th>\n",
              "      <td>Unknown</td>\n",
              "    </tr>\n",
              "  </tbody>\n",
              "</table>\n",
              "<p>9999 rows × 1 columns</p>\n",
              "</div><br><label><b>dtype:</b> object</label>"
            ]
          },
          "metadata": {},
          "execution_count": 81
        }
      ]
    },
    {
      "cell_type": "markdown",
      "source": [
        "**stars**"
      ],
      "metadata": {
        "id": "IrYRXtbaIE8j"
      }
    },
    {
      "cell_type": "code",
      "source": [
        "df['stars']"
      ],
      "metadata": {
        "colab": {
          "base_uri": "https://localhost:8080/",
          "height": 458
        },
        "id": "cjdcIot3H5F6",
        "outputId": "a8f2ff1e-a945-4fa0-fd26-8a080ff56da4"
      },
      "execution_count": 82,
      "outputs": [
        {
          "output_type": "execute_result",
          "data": {
            "text/plain": [
              "0       \\n    Director:\\nPeter Thorwarth\\n| \\n    Star...\n",
              "1       \\n            \\n    Stars:\\nChris Wood, \\nSara...\n",
              "2       \\n            \\n    Stars:\\nAndrew Lincoln, \\n...\n",
              "3       \\n            \\n    Stars:\\nJustin Roiland, \\n...\n",
              "4       \\n    Director:\\nMatthias Schweighöfer\\n| \\n  ...\n",
              "                              ...                        \n",
              "9994    \\n            \\n    Stars:\\nMorgan Taylor Camp...\n",
              "9995                                                   \\n\n",
              "9996    \\n    Director:\\nOrlando von Einsiedel\\n| \\n  ...\n",
              "9997    \\n    Director:\\nJovanka Vuckovic\\n| \\n    Sta...\n",
              "9998    \\n    Director:\\nJovanka Vuckovic\\n| \\n    Sta...\n",
              "Name: stars, Length: 9999, dtype: object"
            ],
            "text/html": [
              "<div>\n",
              "<style scoped>\n",
              "    .dataframe tbody tr th:only-of-type {\n",
              "        vertical-align: middle;\n",
              "    }\n",
              "\n",
              "    .dataframe tbody tr th {\n",
              "        vertical-align: top;\n",
              "    }\n",
              "\n",
              "    .dataframe thead th {\n",
              "        text-align: right;\n",
              "    }\n",
              "</style>\n",
              "<table border=\"1\" class=\"dataframe\">\n",
              "  <thead>\n",
              "    <tr style=\"text-align: right;\">\n",
              "      <th></th>\n",
              "      <th>stars</th>\n",
              "    </tr>\n",
              "  </thead>\n",
              "  <tbody>\n",
              "    <tr>\n",
              "      <th>0</th>\n",
              "      <td>\\n    Director:\\nPeter Thorwarth\\n| \\n    Star...</td>\n",
              "    </tr>\n",
              "    <tr>\n",
              "      <th>1</th>\n",
              "      <td>\\n            \\n    Stars:\\nChris Wood, \\nSara...</td>\n",
              "    </tr>\n",
              "    <tr>\n",
              "      <th>2</th>\n",
              "      <td>\\n            \\n    Stars:\\nAndrew Lincoln, \\n...</td>\n",
              "    </tr>\n",
              "    <tr>\n",
              "      <th>3</th>\n",
              "      <td>\\n            \\n    Stars:\\nJustin Roiland, \\n...</td>\n",
              "    </tr>\n",
              "    <tr>\n",
              "      <th>4</th>\n",
              "      <td>\\n    Director:\\nMatthias Schweighöfer\\n| \\n  ...</td>\n",
              "    </tr>\n",
              "    <tr>\n",
              "      <th>...</th>\n",
              "      <td>...</td>\n",
              "    </tr>\n",
              "    <tr>\n",
              "      <th>9994</th>\n",
              "      <td>\\n            \\n    Stars:\\nMorgan Taylor Camp...</td>\n",
              "    </tr>\n",
              "    <tr>\n",
              "      <th>9995</th>\n",
              "      <td>\\n</td>\n",
              "    </tr>\n",
              "    <tr>\n",
              "      <th>9996</th>\n",
              "      <td>\\n    Director:\\nOrlando von Einsiedel\\n| \\n  ...</td>\n",
              "    </tr>\n",
              "    <tr>\n",
              "      <th>9997</th>\n",
              "      <td>\\n    Director:\\nJovanka Vuckovic\\n| \\n    Sta...</td>\n",
              "    </tr>\n",
              "    <tr>\n",
              "      <th>9998</th>\n",
              "      <td>\\n    Director:\\nJovanka Vuckovic\\n| \\n    Sta...</td>\n",
              "    </tr>\n",
              "  </tbody>\n",
              "</table>\n",
              "<p>9999 rows × 1 columns</p>\n",
              "</div><br><label><b>dtype:</b> object</label>"
            ]
          },
          "metadata": {},
          "execution_count": 82
        }
      ]
    },
    {
      "cell_type": "code",
      "source": [
        "def get_stars(text):\n",
        "    director = None\n",
        "    stars = None\n",
        "    if 'Director:' in text:\n",
        "        director = text.split('Director:\\n')[1].split('\\n|')[0].strip()\n",
        "    if 'Stars:' in text:\n",
        "        stars = text.split('Stars:\\n')[1].replace('\\n','').strip()\n",
        "    return director, stars"
      ],
      "metadata": {
        "id": "lydc5rrgIJf_"
      },
      "execution_count": 83,
      "outputs": []
    },
    {
      "cell_type": "code",
      "source": [
        "df[[\"director\", \"stars\"]]  = df['stars'].apply(lambda item : pd.Series(get_stars(item)))\n",
        "df['stars'] = df['stars'].apply(lambda x: x if x !=None else 'Unkonwn')\n",
        "df['stars'].head()"
      ],
      "metadata": {
        "colab": {
          "base_uri": "https://localhost:8080/",
          "height": 241
        },
        "id": "mAfpzcsvKOzr",
        "outputId": "5842f5a3-76e0-49fc-b9c3-8baa47147d41"
      },
      "execution_count": 84,
      "outputs": [
        {
          "output_type": "execute_result",
          "data": {
            "text/plain": [
              "0    Peri Baumeister, Carl Anton Koch, Alexander Sc...\n",
              "1    Chris Wood, Sarah Michelle Gellar, Lena Headey...\n",
              "2    Andrew Lincoln, Norman Reedus, Melissa McBride...\n",
              "3    Justin Roiland, Chris Parnell, Spencer Grammer...\n",
              "4    Matthias Schweighöfer, Nathalie Emmanuel, Ruby...\n",
              "Name: stars, dtype: object"
            ],
            "text/html": [
              "<div>\n",
              "<style scoped>\n",
              "    .dataframe tbody tr th:only-of-type {\n",
              "        vertical-align: middle;\n",
              "    }\n",
              "\n",
              "    .dataframe tbody tr th {\n",
              "        vertical-align: top;\n",
              "    }\n",
              "\n",
              "    .dataframe thead th {\n",
              "        text-align: right;\n",
              "    }\n",
              "</style>\n",
              "<table border=\"1\" class=\"dataframe\">\n",
              "  <thead>\n",
              "    <tr style=\"text-align: right;\">\n",
              "      <th></th>\n",
              "      <th>stars</th>\n",
              "    </tr>\n",
              "  </thead>\n",
              "  <tbody>\n",
              "    <tr>\n",
              "      <th>0</th>\n",
              "      <td>Peri Baumeister, Carl Anton Koch, Alexander Sc...</td>\n",
              "    </tr>\n",
              "    <tr>\n",
              "      <th>1</th>\n",
              "      <td>Chris Wood, Sarah Michelle Gellar, Lena Headey...</td>\n",
              "    </tr>\n",
              "    <tr>\n",
              "      <th>2</th>\n",
              "      <td>Andrew Lincoln, Norman Reedus, Melissa McBride...</td>\n",
              "    </tr>\n",
              "    <tr>\n",
              "      <th>3</th>\n",
              "      <td>Justin Roiland, Chris Parnell, Spencer Grammer...</td>\n",
              "    </tr>\n",
              "    <tr>\n",
              "      <th>4</th>\n",
              "      <td>Matthias Schweighöfer, Nathalie Emmanuel, Ruby...</td>\n",
              "    </tr>\n",
              "  </tbody>\n",
              "</table>\n",
              "</div><br><label><b>dtype:</b> object</label>"
            ]
          },
          "metadata": {},
          "execution_count": 84
        }
      ]
    },
    {
      "cell_type": "markdown",
      "source": [
        "**votes**"
      ],
      "metadata": {
        "id": "BaBH5X9TMB5q"
      }
    },
    {
      "cell_type": "code",
      "source": [
        "df['votes']"
      ],
      "metadata": {
        "colab": {
          "base_uri": "https://localhost:8080/",
          "height": 458
        },
        "id": "wHFMxGbsMDc-",
        "outputId": "5ec87380-0b34-4b2b-eb48-f4e6b3d54cf2"
      },
      "execution_count": 86,
      "outputs": [
        {
          "output_type": "execute_result",
          "data": {
            "text/plain": [
              "0        21,062\n",
              "1        17,870\n",
              "2       885,805\n",
              "3       414,849\n",
              "4           NaN\n",
              "         ...   \n",
              "9994        NaN\n",
              "9995        NaN\n",
              "9996        NaN\n",
              "9997        NaN\n",
              "9998        NaN\n",
              "Name: votes, Length: 9999, dtype: object"
            ],
            "text/html": [
              "<div>\n",
              "<style scoped>\n",
              "    .dataframe tbody tr th:only-of-type {\n",
              "        vertical-align: middle;\n",
              "    }\n",
              "\n",
              "    .dataframe tbody tr th {\n",
              "        vertical-align: top;\n",
              "    }\n",
              "\n",
              "    .dataframe thead th {\n",
              "        text-align: right;\n",
              "    }\n",
              "</style>\n",
              "<table border=\"1\" class=\"dataframe\">\n",
              "  <thead>\n",
              "    <tr style=\"text-align: right;\">\n",
              "      <th></th>\n",
              "      <th>votes</th>\n",
              "    </tr>\n",
              "  </thead>\n",
              "  <tbody>\n",
              "    <tr>\n",
              "      <th>0</th>\n",
              "      <td>21,062</td>\n",
              "    </tr>\n",
              "    <tr>\n",
              "      <th>1</th>\n",
              "      <td>17,870</td>\n",
              "    </tr>\n",
              "    <tr>\n",
              "      <th>2</th>\n",
              "      <td>885,805</td>\n",
              "    </tr>\n",
              "    <tr>\n",
              "      <th>3</th>\n",
              "      <td>414,849</td>\n",
              "    </tr>\n",
              "    <tr>\n",
              "      <th>4</th>\n",
              "      <td>NaN</td>\n",
              "    </tr>\n",
              "    <tr>\n",
              "      <th>...</th>\n",
              "      <td>...</td>\n",
              "    </tr>\n",
              "    <tr>\n",
              "      <th>9994</th>\n",
              "      <td>NaN</td>\n",
              "    </tr>\n",
              "    <tr>\n",
              "      <th>9995</th>\n",
              "      <td>NaN</td>\n",
              "    </tr>\n",
              "    <tr>\n",
              "      <th>9996</th>\n",
              "      <td>NaN</td>\n",
              "    </tr>\n",
              "    <tr>\n",
              "      <th>9997</th>\n",
              "      <td>NaN</td>\n",
              "    </tr>\n",
              "    <tr>\n",
              "      <th>9998</th>\n",
              "      <td>NaN</td>\n",
              "    </tr>\n",
              "  </tbody>\n",
              "</table>\n",
              "<p>9999 rows × 1 columns</p>\n",
              "</div><br><label><b>dtype:</b> object</label>"
            ]
          },
          "metadata": {},
          "execution_count": 86
        }
      ]
    },
    {
      "cell_type": "code",
      "source": [
        "df['votes'] = df['votes'].str.replace(',','').astype(float)"
      ],
      "metadata": {
        "id": "ITe6sIisMIGP"
      },
      "execution_count": 87,
      "outputs": []
    },
    {
      "cell_type": "code",
      "source": [],
      "metadata": {
        "id": "GQv-jlx8MfB0"
      },
      "execution_count": null,
      "outputs": []
    },
    {
      "cell_type": "markdown",
      "source": [
        "**runtime**"
      ],
      "metadata": {
        "id": "EsJuufHUMli9"
      }
    },
    {
      "cell_type": "code",
      "source": [
        "df['runtime']"
      ],
      "metadata": {
        "colab": {
          "base_uri": "https://localhost:8080/",
          "height": 458
        },
        "id": "KaTCqMm9Mp60",
        "outputId": "83604c06-9c90-43e7-99af-0b41e9252e8b"
      },
      "execution_count": 90,
      "outputs": [
        {
          "output_type": "execute_result",
          "data": {
            "text/plain": [
              "0       121.0\n",
              "1        25.0\n",
              "2        44.0\n",
              "3        23.0\n",
              "4         NaN\n",
              "        ...  \n",
              "9994      NaN\n",
              "9995      NaN\n",
              "9996      NaN\n",
              "9997      NaN\n",
              "9998      NaN\n",
              "Name: runtime, Length: 9999, dtype: float64"
            ],
            "text/html": [
              "<div>\n",
              "<style scoped>\n",
              "    .dataframe tbody tr th:only-of-type {\n",
              "        vertical-align: middle;\n",
              "    }\n",
              "\n",
              "    .dataframe tbody tr th {\n",
              "        vertical-align: top;\n",
              "    }\n",
              "\n",
              "    .dataframe thead th {\n",
              "        text-align: right;\n",
              "    }\n",
              "</style>\n",
              "<table border=\"1\" class=\"dataframe\">\n",
              "  <thead>\n",
              "    <tr style=\"text-align: right;\">\n",
              "      <th></th>\n",
              "      <th>runtime</th>\n",
              "    </tr>\n",
              "  </thead>\n",
              "  <tbody>\n",
              "    <tr>\n",
              "      <th>0</th>\n",
              "      <td>121.0</td>\n",
              "    </tr>\n",
              "    <tr>\n",
              "      <th>1</th>\n",
              "      <td>25.0</td>\n",
              "    </tr>\n",
              "    <tr>\n",
              "      <th>2</th>\n",
              "      <td>44.0</td>\n",
              "    </tr>\n",
              "    <tr>\n",
              "      <th>3</th>\n",
              "      <td>23.0</td>\n",
              "    </tr>\n",
              "    <tr>\n",
              "      <th>4</th>\n",
              "      <td>NaN</td>\n",
              "    </tr>\n",
              "    <tr>\n",
              "      <th>...</th>\n",
              "      <td>...</td>\n",
              "    </tr>\n",
              "    <tr>\n",
              "      <th>9994</th>\n",
              "      <td>NaN</td>\n",
              "    </tr>\n",
              "    <tr>\n",
              "      <th>9995</th>\n",
              "      <td>NaN</td>\n",
              "    </tr>\n",
              "    <tr>\n",
              "      <th>9996</th>\n",
              "      <td>NaN</td>\n",
              "    </tr>\n",
              "    <tr>\n",
              "      <th>9997</th>\n",
              "      <td>NaN</td>\n",
              "    </tr>\n",
              "    <tr>\n",
              "      <th>9998</th>\n",
              "      <td>NaN</td>\n",
              "    </tr>\n",
              "  </tbody>\n",
              "</table>\n",
              "<p>9999 rows × 1 columns</p>\n",
              "</div><br><label><b>dtype:</b> float64</label>"
            ]
          },
          "metadata": {},
          "execution_count": 90
        }
      ]
    },
    {
      "cell_type": "markdown",
      "source": [
        "**gross**"
      ],
      "metadata": {
        "id": "b15RcCptMx4O"
      }
    },
    {
      "cell_type": "code",
      "source": [
        "df['gross'].unique()"
      ],
      "metadata": {
        "colab": {
          "base_uri": "https://localhost:8080/"
        },
        "id": "uHbzCS_sMzwz",
        "outputId": "dc35b03c-79d0-4355-85a3-64c76d383448"
      },
      "execution_count": 91,
      "outputs": [
        {
          "output_type": "execute_result",
          "data": {
            "text/plain": [
              "array([nan, '$75.47M', '$402.45M', '$89.22M', '$315.54M', '$57.01M',\n",
              "       '$260.00M', '$132.38M', '$167.77M', '$404.52M', '$15.07M',\n",
              "       '$70.10M', '$210.61M', '$327.48M', '$390.53M', '$303.00M',\n",
              "       '$56.63M', '$58.06M', '$353.01M', '$46.89M', '$7.00M', '$377.85M',\n",
              "       '$107.83M', '$403.71M', '$316.83M', '$100.55M', '$28.26M',\n",
              "       '$188.76M', '$213.52M', '$226.01M', '$408.08M', '$10.06M',\n",
              "       '$14.84M', '$168.05M', '$183.64M', '$342.55M', '$96.52M',\n",
              "       '$140.22M', '$172.56M', '$56.95M', '$330.36M', '$17.80M', '$0.20M',\n",
              "       '$56.82M', '$66.21M', '$75.61M', '$4.56M', '$106.58M', '$5.02M',\n",
              "       '$22.68M', '$102.92M', '$110.52M', '$504.01M', '$26.86M', '$2.00M',\n",
              "       '$32.73M', '$33.80M', '$400.74M', '$19.02M', '$36.26M', '$6.67M',\n",
              "       '$45.51M', '$75.66M', '$0.33M', '$4.00M', '$20.16M', '$95.86M',\n",
              "       '$176.48M', '$126.66M', '$80.10M', '$42.34M', '$0.04M', '$4.71M',\n",
              "       '$117.72M', '$229.09M', '$33.70M', '$97.69M', '$21.15M', '$27.85M',\n",
              "       '$25.02M', '$100.92M', '$0.80M', '$31.15M', '$143.53M', '$61.74M',\n",
              "       '$33.40M', '$24.45M', '$125.10M', '$12.79M', '$2.38M', '$136.19M',\n",
              "       '$101.03M', '$187.17M', '$158.35M', '$0.01M', '$34.02M', '$57.23M',\n",
              "       '$63.69M', '$5.20M', '$1.23M', '$10.21M', '$51.69M', '$123.48M',\n",
              "       '$60.46M', '$112.72M', '$73.10M', '$0.18M', '$152.90M', '$52.42M',\n",
              "       '$77.22M', '$54.76M', '$21.36M', '$44.82M', '$37.77M', '$218.97M',\n",
              "       '$486.30M', '$97.10M', '$18.34M', '$181.17M', '$0.10M', '$58.88M',\n",
              "       '$80.04M', '$38.32M', '$29.21M', '$11.11M', '$65.08M', '$67.63M',\n",
              "       '$89.30M', '$61.43M', '$59.65M', '$3.22M', '$81.90M', '$30.00M',\n",
              "       '$1.11M', '$18.64M', '$148.73M', '$156.65M', '$103.37M', '$35.66M',\n",
              "       '$8.55M', '$167.51M', '$12.63M', '$41.73M', '$41.23M', '$145.79M',\n",
              "       '$17.61M', '$1.36M', '$51.44M', '$25.13M', '$20.05M', '$36.67M',\n",
              "       '$26.83M', '$35.59M', '$15.50M', '$18.47M', '$58.01M', '$78.75M',\n",
              "       '$93.74M', '$10.38M', '$10.51M', '$368.06M', '$234.91M', '$18.60M',\n",
              "       '$89.26M', '$11.33M', '$101.20M', '$57.74M', '$24.15M', '$33.41M',\n",
              "       '$85.02M', '$21.30M', '$4.36M', '$16.17M', '$0.23M', '$94.90M',\n",
              "       '$0.03M', '$40.44M', '$15.09M', '$21.22M', '$32.02M', '$0.02M',\n",
              "       '$47.06M', '$214.03M', '$77.04M', '$15.43M', '$28.21M', '$0.50M',\n",
              "       '$12.05M', '$2.06M', '$44.14M', '$35.09M', '$1.94M', '$27.67M',\n",
              "       '$79.37M', '$39.18M', '$139.85M', '$88.92M', '$30.58M', '$0.12M',\n",
              "       '$10.88M', '$65.33M', '$1.21M', '$54.77M', '$32.94M', '$5.78M',\n",
              "       '$17.14M', '$0.28M', '$42.87M', '$5.21M', '$4.40M', '$46.91M',\n",
              "       '$0.08M', '$48.79M', '$15.54M', '$44.43M', '$57.39M', '$0.19M',\n",
              "       '$19.70M', '$58.02M', '$66.53M', '$92.12M', '$64.94M', '$0.00M',\n",
              "       '$6.74M', '$0.15M', '$42.40M', '$19.20M', '$35.07M', '$119.79M',\n",
              "       '$27.15M', '$30.69M', '$2.24M', '$4.72M', '$90.29M', '$0.77M',\n",
              "       '$0.51M', '$2.01M', '$14.90M', '$6.17M', '$1.00M', '$31.85M',\n",
              "       '$37.66M', '$30.98M', '$13.75M', '$5.88M', '$37.71M', '$219.61M',\n",
              "       '$4.54M', '$7.15M', '$15.01M', '$0.14M', '$1.51M', '$1.60M',\n",
              "       '$1.34M', '$0.70M', '$26.18M', '$1.16M', '$5.70M', '$10.64M',\n",
              "       '$2.68M', '$0.45M', '$1.04M', '$7.92M', '$20.28M', '$0.05M',\n",
              "       '$8.06M', '$1.25M', '$45.02M', '$1.52M', '$28.35M', '$36.45M',\n",
              "       '$1.08M', '$1.33M', '$3.90M', '$6.12M', '$43.04M', '$0.44M',\n",
              "       '$16.85M', '$5.66M', '$0.81M', '$0.34M', '$4.70M', '$11.55M',\n",
              "       '$5.93M', '$11.37M', '$0.09M', '$3.09M', '$49.77M', '$19.99M',\n",
              "       '$12.41M', '$4.83M', '$0.31M', '$43.55M', '$2.47M', '$0.48M',\n",
              "       '$0.26M', '$6.11M', '$0.76M', '$0.06M', '$0.30M', '$0.16M',\n",
              "       '$0.83M', '$0.59M', '$16.00M', '$5.31M', '$11.96M', '$0.22M',\n",
              "       '$0.54M', '$0.27M', '$0.11M', '$1.54M', '$3.03M', '$0.29M',\n",
              "       '$1.01M', '$3.25M', '$0.41M', '$0.17M', '$0.62M', '$23.59M',\n",
              "       '$25.58M', '$0.13M', '$0.87M', '$1.02M', '$0.56M', '$1.12M',\n",
              "       '$0.85M', '$1.80M', '$0.21M', '$2.83M', '$32.24M', '$0.07M',\n",
              "       '$0.24M', '$10.40M'], dtype=object)"
            ]
          },
          "metadata": {},
          "execution_count": 91
        }
      ]
    },
    {
      "cell_type": "code",
      "source": [
        "def convert_gross(value):\n",
        "  if pd.isna(value): #Check if the value is NaN\n",
        "    return np.nan\n",
        "  value = value.replace('$','').replace(',','')\n",
        "  if 'M' in value:\n",
        "    return float(value.replace('M', '')) * 1_000_000\n",
        "  elif 'K' in value:\n",
        "    return float(value.replace('K', '')) * 1_000\n",
        "  return float(value)\n",
        "# Apply the conversion function to the 'gross' column\n",
        "df['gross'] = df['gross'].apply(convert_gross)"
      ],
      "metadata": {
        "id": "nxDvnT5EM4_g"
      },
      "execution_count": 92,
      "outputs": []
    },
    {
      "cell_type": "code",
      "source": [],
      "metadata": {
        "id": "OV2Vha5COsqN"
      },
      "execution_count": null,
      "outputs": []
    },
    {
      "cell_type": "markdown",
      "source": [
        "### Fill null values"
      ],
      "metadata": {
        "id": "T4qXKVnzO7Oo"
      }
    },
    {
      "cell_type": "code",
      "source": [
        "# make backup\n",
        "df_copy = df.copy()"
      ],
      "metadata": {
        "id": "1gHnKeunO-5m"
      },
      "execution_count": 93,
      "outputs": []
    },
    {
      "cell_type": "code",
      "source": [
        "df_copy.info()"
      ],
      "metadata": {
        "colab": {
          "base_uri": "https://localhost:8080/"
        },
        "id": "I5lQnDc7PNRe",
        "outputId": "ffa0b1ed-ae9b-4fdc-e773-978ad53ddfb9"
      },
      "execution_count": 94,
      "outputs": [
        {
          "output_type": "stream",
          "name": "stdout",
          "text": [
            "<class 'pandas.core.frame.DataFrame'>\n",
            "RangeIndex: 9999 entries, 0 to 9998\n",
            "Data columns (total 10 columns):\n",
            " #   Column    Non-Null Count  Dtype  \n",
            "---  ------    --------------  -----  \n",
            " 0   movies    9999 non-null   object \n",
            " 1   year      9251 non-null   float64\n",
            " 2   genre     9919 non-null   object \n",
            " 3   rating    8179 non-null   float64\n",
            " 4   one-line  9999 non-null   object \n",
            " 5   stars     9999 non-null   object \n",
            " 6   votes     8179 non-null   float64\n",
            " 7   runtime   7041 non-null   float64\n",
            " 8   gross     460 non-null    float64\n",
            " 9   director  5356 non-null   object \n",
            "dtypes: float64(5), object(5)\n",
            "memory usage: 781.3+ KB\n"
          ]
        }
      ]
    },
    {
      "cell_type": "code",
      "source": [
        "df_copy.isna().sum()"
      ],
      "metadata": {
        "colab": {
          "base_uri": "https://localhost:8080/",
          "height": 397
        },
        "id": "RnWZfZJ8POcw",
        "outputId": "be07bd79-c017-4fd1-982a-fd4e18ce5d71"
      },
      "execution_count": 95,
      "outputs": [
        {
          "output_type": "execute_result",
          "data": {
            "text/plain": [
              "movies         0\n",
              "year         748\n",
              "genre         80\n",
              "rating      1820\n",
              "one-line       0\n",
              "stars          0\n",
              "votes       1820\n",
              "runtime     2958\n",
              "gross       9539\n",
              "director    4643\n",
              "dtype: int64"
            ],
            "text/html": [
              "<div>\n",
              "<style scoped>\n",
              "    .dataframe tbody tr th:only-of-type {\n",
              "        vertical-align: middle;\n",
              "    }\n",
              "\n",
              "    .dataframe tbody tr th {\n",
              "        vertical-align: top;\n",
              "    }\n",
              "\n",
              "    .dataframe thead th {\n",
              "        text-align: right;\n",
              "    }\n",
              "</style>\n",
              "<table border=\"1\" class=\"dataframe\">\n",
              "  <thead>\n",
              "    <tr style=\"text-align: right;\">\n",
              "      <th></th>\n",
              "      <th>0</th>\n",
              "    </tr>\n",
              "  </thead>\n",
              "  <tbody>\n",
              "    <tr>\n",
              "      <th>movies</th>\n",
              "      <td>0</td>\n",
              "    </tr>\n",
              "    <tr>\n",
              "      <th>year</th>\n",
              "      <td>748</td>\n",
              "    </tr>\n",
              "    <tr>\n",
              "      <th>genre</th>\n",
              "      <td>80</td>\n",
              "    </tr>\n",
              "    <tr>\n",
              "      <th>rating</th>\n",
              "      <td>1820</td>\n",
              "    </tr>\n",
              "    <tr>\n",
              "      <th>one-line</th>\n",
              "      <td>0</td>\n",
              "    </tr>\n",
              "    <tr>\n",
              "      <th>stars</th>\n",
              "      <td>0</td>\n",
              "    </tr>\n",
              "    <tr>\n",
              "      <th>votes</th>\n",
              "      <td>1820</td>\n",
              "    </tr>\n",
              "    <tr>\n",
              "      <th>runtime</th>\n",
              "      <td>2958</td>\n",
              "    </tr>\n",
              "    <tr>\n",
              "      <th>gross</th>\n",
              "      <td>9539</td>\n",
              "    </tr>\n",
              "    <tr>\n",
              "      <th>director</th>\n",
              "      <td>4643</td>\n",
              "    </tr>\n",
              "  </tbody>\n",
              "</table>\n",
              "</div><br><label><b>dtype:</b> int64</label>"
            ]
          },
          "metadata": {},
          "execution_count": 95
        }
      ]
    },
    {
      "cell_type": "code",
      "source": [
        "#year\n",
        "df_copy['year'] = df_copy['year'].fillna(df_copy['year'].median())\n"
      ],
      "metadata": {
        "colab": {
          "base_uri": "https://localhost:8080/"
        },
        "id": "NyMmq6z8P_MZ",
        "outputId": "8f0e59ad-6c5a-4402-de20-430a19f9804e"
      },
      "execution_count": 96,
      "outputs": [
        {
          "output_type": "execute_result",
          "data": {
            "text/plain": [
              "0"
            ]
          },
          "metadata": {},
          "execution_count": 96
        }
      ]
    },
    {
      "cell_type": "code",
      "source": [
        "#genre\n",
        "df_copy['genre'] = df_copy['genre'].mode()[0]"
      ],
      "metadata": {
        "id": "AWYztKrjQWWP"
      },
      "execution_count": 97,
      "outputs": []
    },
    {
      "cell_type": "code",
      "source": [
        "#rating\n",
        "df_copy['rating'] = df_copy['rating'].fillna(df_copy['rating'].median())"
      ],
      "metadata": {
        "id": "ZDp5uYJyQhxq"
      },
      "execution_count": 98,
      "outputs": []
    },
    {
      "cell_type": "code",
      "source": [
        "#votes\n",
        "df_copy['votes'] = df_copy['votes'].fillna(df_copy['votes'].median())"
      ],
      "metadata": {
        "id": "u0g3cccoQ3VD"
      },
      "execution_count": 99,
      "outputs": []
    },
    {
      "cell_type": "code",
      "source": [
        "#runtime\n",
        "df_copy['runtime'] = df_copy['runtime'].fillna(df_copy['runtime'].median())"
      ],
      "metadata": {
        "id": "DxufAxi7RBsp"
      },
      "execution_count": 100,
      "outputs": []
    },
    {
      "cell_type": "code",
      "source": [
        "#gross\n",
        "df_copy['gross'] = df_copy['gross'].fillna(0)"
      ],
      "metadata": {
        "id": "XbNRIKy9RMJx"
      },
      "execution_count": 101,
      "outputs": []
    },
    {
      "cell_type": "code",
      "source": [
        "#director\n",
        "df_copy['director'] = df_copy['director'].fillna('Unknown')"
      ],
      "metadata": {
        "id": "T5vxLsxTRxse"
      },
      "execution_count": 103,
      "outputs": []
    },
    {
      "cell_type": "code",
      "source": [
        "df_copy.isnull().sum()"
      ],
      "metadata": {
        "colab": {
          "base_uri": "https://localhost:8080/",
          "height": 397
        },
        "id": "juEh8exRR_q1",
        "outputId": "8588c08a-53cf-4cc4-9871-f97de32ab543"
      },
      "execution_count": 104,
      "outputs": [
        {
          "output_type": "execute_result",
          "data": {
            "text/plain": [
              "movies      0\n",
              "year        0\n",
              "genre       0\n",
              "rating      0\n",
              "one-line    0\n",
              "stars       0\n",
              "votes       0\n",
              "runtime     0\n",
              "gross       0\n",
              "director    0\n",
              "dtype: int64"
            ],
            "text/html": [
              "<div>\n",
              "<style scoped>\n",
              "    .dataframe tbody tr th:only-of-type {\n",
              "        vertical-align: middle;\n",
              "    }\n",
              "\n",
              "    .dataframe tbody tr th {\n",
              "        vertical-align: top;\n",
              "    }\n",
              "\n",
              "    .dataframe thead th {\n",
              "        text-align: right;\n",
              "    }\n",
              "</style>\n",
              "<table border=\"1\" class=\"dataframe\">\n",
              "  <thead>\n",
              "    <tr style=\"text-align: right;\">\n",
              "      <th></th>\n",
              "      <th>0</th>\n",
              "    </tr>\n",
              "  </thead>\n",
              "  <tbody>\n",
              "    <tr>\n",
              "      <th>movies</th>\n",
              "      <td>0</td>\n",
              "    </tr>\n",
              "    <tr>\n",
              "      <th>year</th>\n",
              "      <td>0</td>\n",
              "    </tr>\n",
              "    <tr>\n",
              "      <th>genre</th>\n",
              "      <td>0</td>\n",
              "    </tr>\n",
              "    <tr>\n",
              "      <th>rating</th>\n",
              "      <td>0</td>\n",
              "    </tr>\n",
              "    <tr>\n",
              "      <th>one-line</th>\n",
              "      <td>0</td>\n",
              "    </tr>\n",
              "    <tr>\n",
              "      <th>stars</th>\n",
              "      <td>0</td>\n",
              "    </tr>\n",
              "    <tr>\n",
              "      <th>votes</th>\n",
              "      <td>0</td>\n",
              "    </tr>\n",
              "    <tr>\n",
              "      <th>runtime</th>\n",
              "      <td>0</td>\n",
              "    </tr>\n",
              "    <tr>\n",
              "      <th>gross</th>\n",
              "      <td>0</td>\n",
              "    </tr>\n",
              "    <tr>\n",
              "      <th>director</th>\n",
              "      <td>0</td>\n",
              "    </tr>\n",
              "  </tbody>\n",
              "</table>\n",
              "</div><br><label><b>dtype:</b> int64</label>"
            ]
          },
          "metadata": {},
          "execution_count": 104
        }
      ]
    },
    {
      "cell_type": "code",
      "source": [],
      "metadata": {
        "id": "Qj1xJmpMSG83"
      },
      "execution_count": null,
      "outputs": []
    }
  ]
}